{
 "cells": [
  {
   "cell_type": "markdown",
   "metadata": {},
   "source": [
    "# Simple q-learning agent with experience replay\n",
    "\n",
    "We re-write q-learning algorithm using _agentnet_ - a helper for lasagne that implements some RL techniques."
   ]
  },
  {
   "cell_type": "code",
   "execution_count": null,
   "metadata": {
    "collapsed": true
   },
   "outputs": [],
   "source": [
    "! pip install --upgrade https://github.com/yandexdataschool/AgentNet/archive/master.zip"
   ]
  },
  {
   "cell_type": "code",
   "execution_count": 35,
   "metadata": {},
   "outputs": [
    {
     "name": "stdout",
     "output_type": "stream",
     "text": [
      "env: THEANO_FLAGS='floatX=float32'\n"
     ]
    }
   ],
   "source": [
    "import matplotlib.pyplot as plt\n",
    "%matplotlib inline\n",
    "import numpy as np\n",
    "%env THEANO_FLAGS='floatX=float32'\n",
    "\n",
    "#XVFB will be launched if you run on a server\n",
    "import os\n",
    "if type(os.environ.get(\"DISPLAY\")) is not str or len(os.environ.get(\"DISPLAY\"))==0:\n",
    "    !bash ../xvfb start\n",
    "    %env DISPLAY=:1"
   ]
  },
  {
   "cell_type": "markdown",
   "metadata": {},
   "source": [
    "### Experiment setup\n",
    "* Here we simply load the game and check that it works"
   ]
  },
  {
   "cell_type": "code",
   "execution_count": 36,
   "metadata": {},
   "outputs": [
    {
     "name": "stderr",
     "output_type": "stream",
     "text": [
      "[2017-12-06 20:10:55,016] Making new env: LunarLander-v2\n"
     ]
    }
   ],
   "source": [
    "import gym\n",
    "make_env = lambda: gym.make(\"LunarLander-v2\")\n",
    "\n",
    "env=make_env()\n",
    "env.reset()\n",
    "\n",
    "state_shape = env.observation_space.shape\n",
    "n_actions = env.action_space.n"
   ]
  },
  {
   "cell_type": "code",
   "execution_count": 37,
   "metadata": {},
   "outputs": [
    {
     "data": {
      "image/png": "[encoded data removed]",
      "text/plain": [
       "<matplotlib.figure.Figure at 0x7f6366e4ad68>"
      ]
     },
     "metadata": {},
     "output_type": "display_data"
    }
   ],
   "source": [
    "plt.imshow(env.render(\"rgb_array\"))\n",
    "del env"
   ]
  },
  {
   "cell_type": "markdown",
   "metadata": {},
   "source": [
    "# Neural Network body"
   ]
  },
  {
   "cell_type": "code",
   "execution_count": 38,
   "metadata": {
    "collapsed": true
   },
   "outputs": [],
   "source": [
    "import lasagne\n",
    "from lasagne.layers import *\n",
    "from lasagne.nonlinearities import elu\n",
    "\n",
    "\n",
    "#image observation at current tick goes here, shape = (sample_i,x,y,color)\n",
    "observation_layer = InputLayer((None,)+state_shape)\n",
    "\n",
    "\n",
    "nn = DenseLayer(observation_layer, 100, nonlinearity=elu)\n",
    "nn = DenseLayer(nn, 200, nonlinearity=elu)\n",
    "\n",
    "#a layer that predicts Qvalues\n",
    "qvalues_layer = DenseLayer(nn,num_units=n_actions,\n",
    "                           nonlinearity=None,name=\"q-values\")"
   ]
  },
  {
   "cell_type": "markdown",
   "metadata": {},
   "source": [
    "Picking actions is done by yet another layer, that implements $ \\epsilon$ -greedy policy"
   ]
  },
  {
   "cell_type": "code",
   "execution_count": 39,
   "metadata": {
    "collapsed": true
   },
   "outputs": [],
   "source": [
    "from agentnet.resolver import EpsilonGreedyResolver\n",
    "action_layer = EpsilonGreedyResolver(qvalues_layer)\n",
    "\n",
    "#set starting epsilon\n",
    "action_layer.epsilon.set_value(np.float32(0.05))\n"
   ]
  },
  {
   "cell_type": "markdown",
   "metadata": {},
   "source": [
    "### Agent\n",
    "\n",
    "We define an agent entirely composed of a lasagne network:\n",
    "* Observations as InputLayer(s)\n",
    "* Actions as intermediate Layer(s)\n",
    "* `policy_estimators` is \"whatever else you want to keep track of\"\n",
    "\n",
    "Each parameter can be either one layer or a list of layers"
   ]
  },
  {
   "cell_type": "code",
   "execution_count": 40,
   "metadata": {
    "collapsed": true
   },
   "outputs": [],
   "source": [
    "from agentnet.agent import Agent\n",
    "agent = Agent(observation_layers=observation_layer,\n",
    "              action_layers=action_layer,\n",
    "              policy_estimators=qvalues_layer,)"
   ]
  },
  {
   "cell_type": "code",
   "execution_count": 41,
   "metadata": {},
   "outputs": [
    {
     "data": {
      "text/plain": [
       "[W, b, W, b, q-values.W, q-values.b]"
      ]
     },
     "execution_count": 41,
     "metadata": {},
     "output_type": "execute_result"
    }
   ],
   "source": [
    "#Since it's a single lasagne network, one can get it's weights, output, etc\n",
    "weights = lasagne.layers.get_all_params(action_layer,trainable=True)\n",
    "weights"
   ]
  },
  {
   "cell_type": "markdown",
   "metadata": {},
   "source": [
    "# Create and manage a pool of atari sessions to play with\n",
    "\n",
    "* To make training more stable, we shall have an entire batch of game sessions each happening independent of others\n",
    "* Why several parallel agents help training: http://arxiv.org/pdf/1602.01783v1.pdf\n",
    "* Alternative approach: store more sessions: https://www.cs.toronto.edu/~vmnih/docs/dqn.pdf"
   ]
  },
  {
   "cell_type": "code",
   "execution_count": 42,
   "metadata": {},
   "outputs": [
    {
     "name": "stderr",
     "output_type": "stream",
     "text": [
      "[2017-12-06 20:11:05,185] Making new env: LunarLander-v2\n"
     ]
    }
   ],
   "source": [
    "from agentnet.experiments.openai_gym.pool import EnvPool\n",
    "pool = EnvPool(agent,make_env,n_games=1,max_size=10000)"
   ]
  },
  {
   "cell_type": "code",
   "execution_count": 43,
   "metadata": {},
   "outputs": [
    {
     "name": "stdout",
     "output_type": "stream",
     "text": [
      "actions: [[1 1 3 1 2]]\n",
      "rewards: [[-1.62772081 -2.06235779 -2.06196293 -1.92526466  0.        ]]\n",
      "CPU times: user 8 ms, sys: 0 ns, total: 8 ms\n",
      "Wall time: 6.5 ms\n"
     ]
    }
   ],
   "source": [
    "%%time\n",
    "#interact for 7 ticks\n",
    "obs_log,action_log,reward_log,_,_,_  = pool.interact(5)\n",
    "\n",
    "\n",
    "print('actions:',action_log)\n",
    "print('rewards:',reward_log)"
   ]
  },
  {
   "cell_type": "code",
   "execution_count": 44,
   "metadata": {
    "collapsed": true
   },
   "outputs": [],
   "source": [
    "#we'll train on rollouts of 10 steps (required by n-step algorithms and rnns later)\n",
    "SEQ_LENGTH=10\n",
    "\n",
    "#load first sessions (this function calls interact and stores sessions in the pool)\n",
    "\n",
    "for _ in range(100):\n",
    "    pool.update(SEQ_LENGTH)"
   ]
  },
  {
   "cell_type": "markdown",
   "metadata": {},
   "source": [
    "# q-learning\n",
    "\n",
    "We shall now define a function that replays recent game sessions and updates network weights"
   ]
  },
  {
   "cell_type": "code",
   "execution_count": 45,
   "metadata": {
    "collapsed": true
   },
   "outputs": [],
   "source": [
    "#get agent's Qvalues obtained via experience replay\n",
    "replay = pool.experience_replay.sample_session_batch(100)\n",
    "qvalues_seq = agent.get_sessions(\n",
    "    replay,\n",
    "    session_length=SEQ_LENGTH,\n",
    "    experience_replay=True,\n",
    ")[-1]\n",
    "\n"
   ]
  },
  {
   "cell_type": "code",
   "execution_count": 46,
   "metadata": {
    "collapsed": true
   },
   "outputs": [],
   "source": [
    "#loss for Qlearning = (Q(s,a) - (r+gamma*Q(s',a_max)))^2, like you implemented before in lasagne.\n",
    "\n",
    "from agentnet.learning import qlearning\n",
    "elwise_mse_loss = qlearning.get_elementwise_objective(qvalues_seq,\n",
    "                                                      replay.actions[0],\n",
    "                                                      replay.rewards,\n",
    "                                                      replay.is_alive,\n",
    "                                                      gamma_or_gammas=0.99,\n",
    "                                                      n_steps=1,)\n",
    "\n",
    "#compute mean loss over \"alive\" fragments\n",
    "loss = elwise_mse_loss.sum() / replay.is_alive.sum()"
   ]
  },
  {
   "cell_type": "code",
   "execution_count": 47,
   "metadata": {
    "collapsed": true
   },
   "outputs": [],
   "source": [
    "#get weight updates\n",
    "updates = lasagne.updates.adam(loss,weights,learning_rate=1e-4)\n",
    "\n",
    "#compile train function\n",
    "import theano\n",
    "train_step = theano.function([],loss,updates=updates)"
   ]
  },
  {
   "cell_type": "markdown",
   "metadata": {},
   "source": [
    "# Demo run\n",
    "\n",
    "Play full session with an untrained agent"
   ]
  },
  {
   "cell_type": "code",
   "execution_count": 48,
   "metadata": {},
   "outputs": [
    {
     "name": "stderr",
     "output_type": "stream",
     "text": [
      "[2017-12-06 20:11:11,351] Making new env: LunarLander-v2\n",
      "[2017-12-06 20:11:11,356] Clearing 2 monitor files from previous run (because force=True was provided)\n",
      "[2017-12-06 20:11:11,359] Starting new video recorder writing to /home/misha/records/openaigym.video.108.4347.video000000.mp4\n",
      "[2017-12-06 20:11:12,865] Finished writing results. You can upload them to the scoreboard via gym.upload('/home/misha/records')\n"
     ]
    },
    {
     "name": "stdout",
     "output_type": "stream",
     "text": [
      "Episode finished after 77 timesteps with reward=-367.7605226959991\n"
     ]
    }
   ],
   "source": [
    "#for MountainCar-v0 evaluation session is cropped to 200 ticks\n",
    "untrained_reward = pool.evaluate(save_path=\"./records\",record_video=True)"
   ]
  },
  {
   "cell_type": "code",
   "execution_count": 49,
   "metadata": {},
   "outputs": [
    {
     "data": {
      "text/html": [
       "\n",
       "<video width=\"640\" height=\"480\" controls>\n",
       "  <source src=\"./records/openaigym.video.108.4347.video000000.mp4\" type=\"video/mp4\">\n",
       "</video>\n"
      ],
      "text/plain": [
       "<IPython.core.display.HTML object>"
      ]
     },
     "execution_count": 49,
     "metadata": {},
     "output_type": "execute_result"
    }
   ],
   "source": [
    "#show video\n",
    "from IPython.display import HTML\n",
    "import os\n",
    "\n",
    "video_names = list(filter(lambda s:s.endswith(\".mp4\"),os.listdir(\"./records/\")))\n",
    "\n",
    "HTML(\"\"\"\n",
    "<video width=\"640\" height=\"480\" controls>\n",
    "  <source src=\"{}\" type=\"video/mp4\">\n",
    "</video>\n",
    "\"\"\".format(\"./records/\"+video_names[-1])) #this may or may not be _last_ video. Try other indices"
   ]
  },
  {
   "cell_type": "markdown",
   "metadata": {},
   "source": [
    "# Training loop"
   ]
  },
  {
   "cell_type": "code",
   "execution_count": 50,
   "metadata": {
    "collapsed": true
   },
   "outputs": [],
   "source": [
    "epoch_counter = 1 #starting epoch\n",
    "rewards = {} #full game rewards\n",
    "target_score = 0"
   ]
  },
  {
   "cell_type": "code",
   "execution_count": 51,
   "metadata": {
    "scrolled": true
   },
   "outputs": [
    {
     "name": "stderr",
     "output_type": "stream",
     "text": [
      "  1%|          | 99/10000 [00:04<07:55, 20.80it/s][2017-12-06 20:11:20,885] Making new env: LunarLander-v2\n",
      "[2017-12-06 20:11:20,888] Clearing 4 monitor files from previous run (because force=True was provided)\n",
      "[2017-12-06 20:11:21,158] Finished writing results. You can upload them to the scoreboard via gym.upload('/home/misha/records')\n"
     ]
    },
    {
     "name": "stdout",
     "output_type": "stream",
     "text": [
      "Episode finished after 167 timesteps with reward=-59.38410318199372\n",
      "Episode finished after 128 timesteps with reward=-151.22147379602174\n",
      "Episode finished after 142 timesteps with reward=-105.65442319599306\n",
      "iter=100\tepsilon=0.910\n",
      "Current score(mean over 3) = -105.420\n"
     ]
    },
    {
     "name": "stderr",
     "output_type": "stream",
     "text": [
      "  2%|▏         | 197/10000 [00:09<08:02, 20.32it/s][2017-12-06 20:11:25,906] Making new env: LunarLander-v2\n",
      "[2017-12-06 20:11:25,909] Clearing 2 monitor files from previous run (because force=True was provided)\n",
      "[2017-12-06 20:11:26,090] Finished writing results. You can upload them to the scoreboard via gym.upload('/home/misha/records')\n",
      "  2%|▏         | 202/10000 [00:10<08:11, 19.93it/s]"
     ]
    },
    {
     "name": "stdout",
     "output_type": "stream",
     "text": [
      "Episode finished after 95 timesteps with reward=-318.5906646389142\n",
      "Episode finished after 147 timesteps with reward=-492.7515777667629\n",
      "Episode finished after 67 timesteps with reward=-171.0790222305397\n",
      "iter=200\tepsilon=0.828\n",
      "Current score(mean over 3) = -327.474\n"
     ]
    },
    {
     "name": "stderr",
     "output_type": "stream",
     "text": [
      "  3%|▎         | 298/10000 [00:15<08:19, 19.44it/s][2017-12-06 20:11:31,506] Making new env: LunarLander-v2\n",
      "[2017-12-06 20:11:31,509] Clearing 2 monitor files from previous run (because force=True was provided)\n",
      "[2017-12-06 20:11:31,789] Finished writing results. You can upload them to the scoreboard via gym.upload('/home/misha/records')\n",
      "  3%|▎         | 300/10000 [00:15<08:28, 19.09it/s]"
     ]
    },
    {
     "name": "stdout",
     "output_type": "stream",
     "text": [
      "Episode finished after 101 timesteps with reward=-273.5090387746774\n",
      "Episode finished after 160 timesteps with reward=-137.3784922911736\n",
      "Episode finished after 134 timesteps with reward=-232.01336860083802\n",
      "iter=300\tepsilon=0.754\n",
      "Current score(mean over 3) = -214.300\n"
     ]
    },
    {
     "name": "stderr",
     "output_type": "stream",
     "text": [
      "  4%|▍         | 399/10000 [00:21<08:37, 18.54it/s][2017-12-06 20:11:37,647] Making new env: LunarLander-v2\n",
      "[2017-12-06 20:11:37,650] Clearing 2 monitor files from previous run (because force=True was provided)\n"
     ]
    },
    {
     "name": "stdout",
     "output_type": "stream",
     "text": [
      "Episode finished after 142 timesteps with reward=-420.3530135064373\n",
      "Episode finished after 119 timesteps with reward=-104.58177869566909\n"
     ]
    },
    {
     "name": "stderr",
     "output_type": "stream",
     "text": [
      "[2017-12-06 20:11:38,095] Finished writing results. You can upload them to the scoreboard via gym.upload('/home/misha/records')\n",
      "  4%|▍         | 403/10000 [00:22<08:48, 18.17it/s]"
     ]
    },
    {
     "name": "stdout",
     "output_type": "stream",
     "text": [
      "Episode finished after 215 timesteps with reward=-106.24797951743729\n",
      "iter=400\tepsilon=0.687\n",
      "Current score(mean over 3) = -210.394\n"
     ]
    },
    {
     "name": "stderr",
     "output_type": "stream",
     "text": [
      "  5%|▍         | 499/10000 [00:27<08:44, 18.12it/s][2017-12-06 20:11:43,681] Making new env: LunarLander-v2\n",
      "[2017-12-06 20:11:43,683] Clearing 2 monitor files from previous run (because force=True was provided)\n",
      "[2017-12-06 20:11:43,888] Finished writing results. You can upload them to the scoreboard via gym.upload('/home/misha/records')\n",
      "  5%|▌         | 501/10000 [00:27<08:48, 17.98it/s]"
     ]
    },
    {
     "name": "stdout",
     "output_type": "stream",
     "text": [
      "Episode finished after 95 timesteps with reward=-326.6202599030471\n",
      "Episode finished after 107 timesteps with reward=0.24217981251987908\n",
      "Episode finished after 137 timesteps with reward=-382.41991845961303\n",
      "iter=500\tepsilon=0.626\n",
      "Current score(mean over 3) = -236.266\n"
     ]
    },
    {
     "name": "stderr",
     "output_type": "stream",
     "text": [
      "  6%|▌         | 599/10000 [00:33<08:42, 17.99it/s][2017-12-06 20:11:49,435] Making new env: LunarLander-v2\n",
      "[2017-12-06 20:11:49,438] Clearing 2 monitor files from previous run (because force=True was provided)\n",
      "[2017-12-06 20:11:49,649] Finished writing results. You can upload them to the scoreboard via gym.upload('/home/misha/records')\n",
      "  6%|▌         | 601/10000 [00:33<08:46, 17.87it/s]"
     ]
    },
    {
     "name": "stdout",
     "output_type": "stream",
     "text": [
      "Episode finished after 78 timesteps with reward=-148.75566875205345\n",
      "Episode finished after 142 timesteps with reward=-88.6071235952701\n",
      "Episode finished after 140 timesteps with reward=-170.60364172899125\n",
      "iter=600\tepsilon=0.571\n",
      "Current score(mean over 3) = -135.989\n"
     ]
    },
    {
     "name": "stderr",
     "output_type": "stream",
     "text": [
      "  7%|▋         | 699/10000 [00:39<08:43, 17.75it/s][2017-12-06 20:11:55,520] Making new env: LunarLander-v2\n",
      "[2017-12-06 20:11:55,523] Clearing 2 monitor files from previous run (because force=True was provided)\n",
      "[2017-12-06 20:11:55,742] Finished writing results. You can upload them to the scoreboard via gym.upload('/home/misha/records')\n"
     ]
    },
    {
     "name": "stdout",
     "output_type": "stream",
     "text": [
      "Episode finished after 132 timesteps with reward=-275.5705376892307\n",
      "Episode finished after 78 timesteps with reward=-271.3626534353059\n",
      "Episode finished after 179 timesteps with reward=-338.89280730819087\n",
      "iter=700\tepsilon=0.522\n",
      "Current score(mean over 3) = -295.275\n"
     ]
    },
    {
     "name": "stderr",
     "output_type": "stream",
     "text": [
      "  8%|▊         | 798/10000 [00:45<08:43, 17.57it/s][2017-12-06 20:12:01,612] Making new env: LunarLander-v2\n",
      "[2017-12-06 20:12:01,615] Clearing 2 monitor files from previous run (because force=True was provided)\n"
     ]
    },
    {
     "name": "stdout",
     "output_type": "stream",
     "text": [
      "Episode finished after 110 timesteps with reward=-388.7470773515937\n",
      "Episode finished after 168 timesteps with reward=-629.3074355096845\n"
     ]
    },
    {
     "name": "stderr",
     "output_type": "stream",
     "text": [
      "[2017-12-06 20:12:01,904] Finished writing results. You can upload them to the scoreboard via gym.upload('/home/misha/records')\n",
      "  8%|▊         | 802/10000 [00:45<08:47, 17.45it/s]"
     ]
    },
    {
     "name": "stdout",
     "output_type": "stream",
     "text": [
      "Episode finished after 186 timesteps with reward=-503.79373555281006\n",
      "iter=800\tepsilon=0.477\n",
      "Current score(mean over 3) = -507.283\n"
     ]
    },
    {
     "name": "stderr",
     "output_type": "stream",
     "text": [
      "  9%|▉         | 898/10000 [00:51<08:45, 17.32it/s][2017-12-06 20:12:08,050] Making new env: LunarLander-v2\n",
      "[2017-12-06 20:12:08,052] Clearing 2 monitor files from previous run (because force=True was provided)\n",
      "[2017-12-06 20:12:08,568] Finished writing results. You can upload them to the scoreboard via gym.upload('/home/misha/records')\n",
      "  9%|▉         | 900/10000 [00:52<08:50, 17.14it/s]"
     ]
    },
    {
     "name": "stdout",
     "output_type": "stream",
     "text": [
      "Episode finished after 369 timesteps with reward=-343.2841656652539\n",
      "Episode finished after 102 timesteps with reward=-435.75554027567074\n",
      "Episode finished after 195 timesteps with reward=-399.1790675061044\n",
      "iter=900\tepsilon=0.436\n",
      "Current score(mean over 3) = -392.740\n"
     ]
    },
    {
     "name": "stderr",
     "output_type": "stream",
     "text": [
      " 10%|▉         | 998/10000 [00:59<08:55, 16.80it/s][2017-12-06 20:12:15,606] Making new env: LunarLander-v2\n",
      "[2017-12-06 20:12:15,609] Clearing 2 monitor files from previous run (because force=True was provided)\n",
      "[2017-12-06 20:12:15,807] Finished writing results. You can upload them to the scoreboard via gym.upload('/home/misha/records')\n",
      " 10%|█         | 1000/10000 [00:59<08:57, 16.74it/s]"
     ]
    },
    {
     "name": "stdout",
     "output_type": "stream",
     "text": [
      "Episode finished after 133 timesteps with reward=-335.47372487539883\n",
      "Episode finished after 91 timesteps with reward=-209.66055141701875\n",
      "Episode finished after 111 timesteps with reward=-196.00517471413326\n",
      "iter=1000\tepsilon=0.399\n",
      "Current score(mean over 3) = -247.046\n"
     ]
    },
    {
     "name": "stderr",
     "output_type": "stream",
     "text": [
      " 11%|█         | 1098/10000 [01:06<08:57, 16.57it/s][2017-12-06 20:12:22,474] Making new env: LunarLander-v2\n",
      "[2017-12-06 20:12:22,477] Clearing 2 monitor files from previous run (because force=True was provided)\n"
     ]
    },
    {
     "name": "stdout",
     "output_type": "stream",
     "text": [
      "Episode finished after 292 timesteps with reward=-802.8114823149239\n",
      "Episode finished after 233 timesteps with reward=-550.3167697585864\n"
     ]
    },
    {
     "name": "stderr",
     "output_type": "stream",
     "text": [
      "[2017-12-06 20:12:23,224] Finished writing results. You can upload them to the scoreboard via gym.upload('/home/misha/records')\n",
      " 11%|█         | 1102/10000 [01:07<09:03, 16.37it/s]"
     ]
    },
    {
     "name": "stdout",
     "output_type": "stream",
     "text": [
      "Episode finished after 325 timesteps with reward=-711.1702227601679\n",
      "iter=1100\tepsilon=0.366\n",
      "Current score(mean over 3) = -688.099\n"
     ]
    },
    {
     "name": "stderr",
     "output_type": "stream",
     "text": [
      " 12%|█▏        | 1198/10000 [01:14<09:04, 16.18it/s][2017-12-06 20:12:30,271] Making new env: LunarLander-v2\n",
      "[2017-12-06 20:12:30,274] Clearing 2 monitor files from previous run (because force=True was provided)\n"
     ]
    },
    {
     "name": "stdout",
     "output_type": "stream",
     "text": [
      "Episode finished after 112 timesteps with reward=-151.61656079425035\n",
      "Episode finished after 171 timesteps with reward=-532.6626567269673\n"
     ]
    },
    {
     "name": "stderr",
     "output_type": "stream",
     "text": [
      "[2017-12-06 20:12:30,660] Finished writing results. You can upload them to the scoreboard via gym.upload('/home/misha/records')\n",
      " 12%|█▏        | 1202/10000 [01:14<09:07, 16.08it/s]"
     ]
    },
    {
     "name": "stdout",
     "output_type": "stream",
     "text": [
      "Episode finished after 154 timesteps with reward=-416.05934391391884\n",
      "iter=1200\tepsilon=0.336\n",
      "Current score(mean over 3) = -366.780\n"
     ]
    },
    {
     "name": "stderr",
     "output_type": "stream",
     "text": [
      " 13%|█▎        | 1298/10000 [01:22<09:10, 15.80it/s][2017-12-06 20:12:38,387] Making new env: LunarLander-v2\n",
      "[2017-12-06 20:12:38,390] Clearing 2 monitor files from previous run (because force=True was provided)\n"
     ]
    },
    {
     "name": "stdout",
     "output_type": "stream",
     "text": [
      "Episode finished after 84 timesteps with reward=-415.4180823834732\n",
      "Episode finished after 85 timesteps with reward=-266.5288516583267\n"
     ]
    },
    {
     "name": "stderr",
     "output_type": "stream",
     "text": [
      "[2017-12-06 20:12:38,728] Finished writing results. You can upload them to the scoreboard via gym.upload('/home/misha/records')\n",
      " 13%|█▎        | 1302/10000 [01:22<09:13, 15.73it/s]"
     ]
    },
    {
     "name": "stdout",
     "output_type": "stream",
     "text": [
      "Episode finished after 319 timesteps with reward=-536.7923159645899\n",
      "iter=1300\tepsilon=0.309\n",
      "Current score(mean over 3) = -406.246\n"
     ]
    },
    {
     "name": "stderr",
     "output_type": "stream",
     "text": [
      " 14%|█▍        | 1398/10000 [01:30<09:15, 15.50it/s][2017-12-06 20:12:46,458] Making new env: LunarLander-v2\n",
      "[2017-12-06 20:12:46,460] Clearing 2 monitor files from previous run (because force=True was provided)\n"
     ]
    },
    {
     "name": "stdout",
     "output_type": "stream",
     "text": [
      "Episode finished after 350 timesteps with reward=-483.7985430167949\n",
      "Episode finished after 181 timesteps with reward=-602.7546759151257\n"
     ]
    },
    {
     "name": "stderr",
     "output_type": "stream",
     "text": [
      "[2017-12-06 20:12:47,066] Finished writing results. You can upload them to the scoreboard via gym.upload('/home/misha/records')\n",
      " 14%|█▍        | 1402/10000 [01:31<09:18, 15.38it/s]"
     ]
    },
    {
     "name": "stdout",
     "output_type": "stream",
     "text": [
      "Episode finished after 218 timesteps with reward=-461.42611395104706\n",
      "iter=1400\tepsilon=0.284\n",
      "Current score(mean over 3) = -515.993\n"
     ]
    },
    {
     "name": "stderr",
     "output_type": "stream",
     "text": [
      " 15%|█▍        | 1498/10000 [01:38<09:18, 15.23it/s][2017-12-06 20:12:54,632] Making new env: LunarLander-v2\n",
      "[2017-12-06 20:12:54,634] Clearing 2 monitor files from previous run (because force=True was provided)\n"
     ]
    },
    {
     "name": "stdout",
     "output_type": "stream",
     "text": [
      "Episode finished after 89 timesteps with reward=-193.1879866223631\n"
     ]
    },
    {
     "name": "stderr",
     "output_type": "stream",
     "text": [
      "[2017-12-06 20:12:55,089] Finished writing results. You can upload them to the scoreboard via gym.upload('/home/misha/records')\n",
      " 15%|█▌        | 1500/10000 [01:39<09:21, 15.15it/s]"
     ]
    },
    {
     "name": "stdout",
     "output_type": "stream",
     "text": [
      "Episode finished after 253 timesteps with reward=-445.9700690925015\n",
      "Episode finished after 105 timesteps with reward=-215.4226859693999\n",
      "iter=1500\tepsilon=0.262\n",
      "Current score(mean over 3) = -284.860\n"
     ]
    },
    {
     "name": "stderr",
     "output_type": "stream",
     "text": [
      " 16%|█▌        | 1599/10000 [01:47<09:23, 14.91it/s][2017-12-06 20:13:03,428] Making new env: LunarLander-v2\n",
      "[2017-12-06 20:13:03,431] Clearing 2 monitor files from previous run (because force=True was provided)\n"
     ]
    },
    {
     "name": "stdout",
     "output_type": "stream",
     "text": [
      "Episode finished after 260 timesteps with reward=-642.5055960599265\n",
      "Episode finished after 174 timesteps with reward=-406.35471965328395"
     ]
    },
    {
     "name": "stderr",
     "output_type": "stream",
     "text": [
      "[2017-12-06 20:13:03,904] Finished writing results. You can upload them to the scoreboard via gym.upload('/home/misha/records')\n",
      " 16%|█▌        | 1601/10000 [01:47<09:26, 14.83it/s]"
     ]
    },
    {
     "name": "stdout",
     "output_type": "stream",
     "text": [
      "\n",
      "Episode finished after 160 timesteps with reward=-277.0819761204\n",
      "iter=1600\tepsilon=0.242\n",
      "Current score(mean over 3) = -441.981\n"
     ]
    },
    {
     "name": "stderr",
     "output_type": "stream",
     "text": [
      " 17%|█▋        | 1698/10000 [01:55<09:27, 14.64it/s][2017-12-06 20:13:12,176] Making new env: LunarLander-v2\n",
      "[2017-12-06 20:13:12,178] Clearing 2 monitor files from previous run (because force=True was provided)\n"
     ]
    },
    {
     "name": "stdout",
     "output_type": "stream",
     "text": [
      "Episode finished after 243 timesteps with reward=-388.754017776989\n",
      "Episode finished after 188 timesteps with reward=-479.4955639438623\n"
     ]
    },
    {
     "name": "stderr",
     "output_type": "stream",
     "text": [
      "[2017-12-06 20:13:12,631] Finished writing results. You can upload them to the scoreboard via gym.upload('/home/misha/records')\n",
      " 17%|█▋        | 1702/10000 [01:56<09:28, 14.58it/s]"
     ]
    },
    {
     "name": "stdout",
     "output_type": "stream",
     "text": [
      "Episode finished after 235 timesteps with reward=-466.00936018433805\n",
      "iter=1700\tepsilon=0.224\n",
      "Current score(mean over 3) = -444.753\n"
     ]
    },
    {
     "name": "stderr",
     "output_type": "stream",
     "text": [
      " 18%|█▊        | 1798/10000 [02:05<09:30, 14.38it/s][2017-12-06 20:13:21,217] Making new env: LunarLander-v2\n",
      "[2017-12-06 20:13:21,220] Clearing 2 monitor files from previous run (because force=True was provided)\n"
     ]
    },
    {
     "name": "stdout",
     "output_type": "stream",
     "text": [
      "Episode finished after 1000 timesteps with reward=23.39926069916701\n",
      "Episode finished after 170 timesteps with reward=-257.8182322671339\n"
     ]
    },
    {
     "name": "stderr",
     "output_type": "stream",
     "text": [
      "[2017-12-06 20:13:23,577] Finished writing results. You can upload them to the scoreboard via gym.upload('/home/misha/records')\n",
      " 18%|█▊        | 1802/10000 [02:07<09:40, 14.12it/s]"
     ]
    },
    {
     "name": "stdout",
     "output_type": "stream",
     "text": [
      "Episode finished after 221 timesteps with reward=-185.22318046243447\n",
      "iter=1800\tepsilon=0.207\n",
      "Current score(mean over 3) = -139.881\n"
     ]
    },
    {
     "name": "stderr",
     "output_type": "stream",
     "text": [
      " 19%|█▉        | 1898/10000 [02:15<09:36, 14.04it/s][2017-12-06 20:13:31,358] Making new env: LunarLander-v2\n",
      "[2017-12-06 20:13:31,361] Clearing 2 monitor files from previous run (because force=True was provided)\n",
      "[2017-12-06 20:13:31,816] Finished writing results. You can upload them to the scoreboard via gym.upload('/home/misha/records')\n",
      " 19%|█▉        | 1900/10000 [02:15<09:38, 14.00it/s]"
     ]
    },
    {
     "name": "stdout",
     "output_type": "stream",
     "text": [
      "Episode finished after 266 timesteps with reward=-635.9805700955063\n",
      "Episode finished after 203 timesteps with reward=-355.40876233828305\n",
      "Episode finished after 175 timesteps with reward=-147.89768670937337\n",
      "iter=1900\tepsilon=0.192\n",
      "Current score(mean over 3) = -379.762\n"
     ]
    },
    {
     "name": "stderr",
     "output_type": "stream",
     "text": [
      " 20%|█▉        | 1999/10000 [02:23<09:34, 13.92it/s][2017-12-06 20:13:39,774] Making new env: LunarLander-v2\n",
      "[2017-12-06 20:13:39,777] Clearing 2 monitor files from previous run (because force=True was provided)\n"
     ]
    },
    {
     "name": "stdout",
     "output_type": "stream",
     "text": [
      "Episode finished after 176 timesteps with reward=-115.42153972934967\n"
     ]
    },
    {
     "name": "stderr",
     "output_type": "stream",
     "text": [
      "[2017-12-06 20:13:40,271] Finished writing results. You can upload them to the scoreboard via gym.upload('/home/misha/records')\n",
      " 20%|██        | 2001/10000 [02:24<09:36, 13.87it/s]"
     ]
    },
    {
     "name": "stdout",
     "output_type": "stream",
     "text": [
      "Episode finished after 322 timesteps with reward=-260.51220993099366\n",
      "Episode finished after 162 timesteps with reward=-308.54923007556056\n",
      "iter=2000\tepsilon=0.179\n",
      "Current score(mean over 3) = -228.161\n"
     ]
    },
    {
     "name": "stderr",
     "output_type": "stream",
     "text": [
      " 21%|██        | 2099/10000 [02:31<09:30, 13.86it/s][2017-12-06 20:13:47,607] Making new env: LunarLander-v2\n",
      "[2017-12-06 20:13:47,609] Clearing 2 monitor files from previous run (because force=True was provided)\n"
     ]
    },
    {
     "name": "stdout",
     "output_type": "stream",
     "text": [
      "Episode finished after 214 timesteps with reward=-225.43349823534578\n",
      "Episode finished after 212 timesteps with reward=-217.07273662992682\n"
     ]
    },
    {
     "name": "stderr",
     "output_type": "stream",
     "text": [
      "[2017-12-06 20:13:48,070] Finished writing results. You can upload them to the scoreboard via gym.upload('/home/misha/records')\n",
      " 21%|██        | 2103/10000 [02:32<09:31, 13.82it/s]"
     ]
    },
    {
     "name": "stdout",
     "output_type": "stream",
     "text": [
      "Episode finished after 245 timesteps with reward=-382.3315877727694\n",
      "iter=2100\tepsilon=0.166\n",
      "Current score(mean over 3) = -274.946\n"
     ]
    },
    {
     "name": "stderr",
     "output_type": "stream",
     "text": [
      " 22%|██▏       | 2199/10000 [02:39<09:24, 13.81it/s][2017-12-06 20:13:55,364] Making new env: LunarLander-v2\n",
      "[2017-12-06 20:13:55,367] Clearing 2 monitor files from previous run (because force=True was provided)\n"
     ]
    },
    {
     "name": "stdout",
     "output_type": "stream",
     "text": [
      "Episode finished after 189 timesteps with reward=-256.0189749534146\n",
      "Episode finished after 178 timesteps with reward=-265.57523437061366\n"
     ]
    },
    {
     "name": "stderr",
     "output_type": "stream",
     "text": [
      "[2017-12-06 20:13:55,831] Finished writing results. You can upload them to the scoreboard via gym.upload('/home/misha/records')\n",
      " 22%|██▏       | 2201/10000 [02:39<09:26, 13.77it/s]"
     ]
    },
    {
     "name": "stdout",
     "output_type": "stream",
     "text": [
      "Episode finished after 300 timesteps with reward=-404.12221857376665\n",
      "iter=2200\tepsilon=0.155\n",
      "Current score(mean over 3) = -308.572\n"
     ]
    },
    {
     "name": "stderr",
     "output_type": "stream",
     "text": [
      " 23%|██▎       | 2299/10000 [02:46<09:19, 13.77it/s][2017-12-06 20:14:03,069] Making new env: LunarLander-v2\n",
      "[2017-12-06 20:14:03,071] Clearing 2 monitor files from previous run (because force=True was provided)\n",
      "[2017-12-06 20:14:03,208] Finished writing results. You can upload them to the scoreboard via gym.upload('/home/misha/records')\n",
      " 23%|██▎       | 2301/10000 [02:47<09:19, 13.76it/s]"
     ]
    },
    {
     "name": "stdout",
     "output_type": "stream",
     "text": [
      "Episode finished after 86 timesteps with reward=-440.26119120316025\n",
      "Episode finished after 76 timesteps with reward=-377.9536631279919\n",
      "Episode finished after 86 timesteps with reward=-492.64973268044247\n",
      "iter=2300\tepsilon=0.145\n",
      "Current score(mean over 3) = -436.955\n"
     ]
    },
    {
     "name": "stderr",
     "output_type": "stream",
     "text": [
      " 24%|██▍       | 2398/10000 [02:54<09:13, 13.73it/s][2017-12-06 20:14:10,854] Making new env: LunarLander-v2\n",
      "[2017-12-06 20:14:10,856] Clearing 2 monitor files from previous run (because force=True was provided)\n",
      "[2017-12-06 20:14:11,095] Finished writing results. You can upload them to the scoreboard via gym.upload('/home/misha/records')\n",
      " 24%|██▍       | 2400/10000 [02:55<09:14, 13.71it/s]"
     ]
    },
    {
     "name": "stdout",
     "output_type": "stream",
     "text": [
      "Episode finished after 192 timesteps with reward=-199.52851049270686\n",
      "Episode finished after 109 timesteps with reward=-157.60429816741052\n",
      "Episode finished after 91 timesteps with reward=-480.2053447639872\n",
      "iter=2400\tepsilon=0.136\n",
      "Current score(mean over 3) = -279.113\n"
     ]
    },
    {
     "name": "stderr",
     "output_type": "stream",
     "text": [
      " 25%|██▍       | 2498/10000 [03:02<09:07, 13.71it/s][2017-12-06 20:14:18,353] Making new env: LunarLander-v2\n",
      "[2017-12-06 20:14:18,355] Clearing 2 monitor files from previous run (because force=True was provided)\n",
      "[2017-12-06 20:14:18,490] Finished writing results. You can upload them to the scoreboard via gym.upload('/home/misha/records')\n",
      " 25%|██▌       | 2502/10000 [03:02<09:07, 13.71it/s]"
     ]
    },
    {
     "name": "stdout",
     "output_type": "stream",
     "text": [
      "Episode finished after 88 timesteps with reward=-345.9061236786089\n",
      "Episode finished after 81 timesteps with reward=-414.04457333283233\n",
      "Episode finished after 75 timesteps with reward=-474.66647563303485\n",
      "iter=2500\tepsilon=0.128\n",
      "Current score(mean over 3) = -411.539\n"
     ]
    },
    {
     "name": "stderr",
     "output_type": "stream",
     "text": [
      " 26%|██▌       | 2598/10000 [03:09<08:59, 13.73it/s][2017-12-06 20:14:25,423] Making new env: LunarLander-v2\n",
      "[2017-12-06 20:14:25,426] Clearing 2 monitor files from previous run (because force=True was provided)\n"
     ]
    },
    {
     "name": "stdout",
     "output_type": "stream",
     "text": [
      "Episode finished after 288 timesteps with reward=-290.3343241573765\n",
      "Episode finished after 111 timesteps with reward=-141.73064200629273\n"
     ]
    },
    {
     "name": "stderr",
     "output_type": "stream",
     "text": [
      "[2017-12-06 20:14:26,020] Finished writing results. You can upload them to the scoreboard via gym.upload('/home/misha/records')\n",
      " 26%|██▌       | 2602/10000 [03:10<09:00, 13.69it/s]"
     ]
    },
    {
     "name": "stdout",
     "output_type": "stream",
     "text": [
      "Episode finished after 308 timesteps with reward=-257.6910738153774\n",
      "iter=2600\tepsilon=0.121\n",
      "Current score(mean over 3) = -229.919\n"
     ]
    },
    {
     "name": "stderr",
     "output_type": "stream",
     "text": [
      " 27%|██▋       | 2698/10000 [03:17<08:53, 13.69it/s][2017-12-06 20:14:33,253] Making new env: LunarLander-v2\n",
      "[2017-12-06 20:14:33,255] Clearing 2 monitor files from previous run (because force=True was provided)\n",
      "[2017-12-06 20:14:33,511] Finished writing results. You can upload them to the scoreboard via gym.upload('/home/misha/records')\n",
      " 27%|██▋       | 2700/10000 [03:17<08:53, 13.68it/s]"
     ]
    },
    {
     "name": "stdout",
     "output_type": "stream",
     "text": [
      "Episode finished after 103 timesteps with reward=-28.6390279988302\n",
      "Episode finished after 76 timesteps with reward=-523.5776908509397\n",
      "Episode finished after 219 timesteps with reward=-332.0133851936489\n",
      "iter=2700\tepsilon=0.114\n",
      "Current score(mean over 3) = -294.743\n"
     ]
    },
    {
     "name": "stderr",
     "output_type": "stream",
     "text": [
      " 28%|██▊       | 2798/10000 [03:24<08:46, 13.69it/s][2017-12-06 20:14:40,640] Making new env: LunarLander-v2\n",
      "[2017-12-06 20:14:40,642] Clearing 2 monitor files from previous run (because force=True was provided)\n"
     ]
    },
    {
     "name": "stdout",
     "output_type": "stream",
     "text": [
      "Episode finished after 257 timesteps with reward=-160.34896580689295\n",
      "Episode finished after 237 timesteps with reward=-160.83531696977013\n"
     ]
    },
    {
     "name": "stderr",
     "output_type": "stream",
     "text": [
      "[2017-12-06 20:14:41,643] Finished writing results. You can upload them to the scoreboard via gym.upload('/home/misha/records')\n",
      " 28%|██▊       | 2802/10000 [03:25<08:48, 13.62it/s]"
     ]
    },
    {
     "name": "stdout",
     "output_type": "stream",
     "text": [
      "Episode finished after 453 timesteps with reward=-366.9504507428664\n",
      "iter=2800\tepsilon=0.108\n",
      "Current score(mean over 3) = -229.378\n"
     ]
    },
    {
     "name": "stderr",
     "output_type": "stream",
     "text": [
      " 29%|██▉       | 2898/10000 [03:32<08:40, 13.64it/s][2017-12-06 20:14:48,650] Making new env: LunarLander-v2\n",
      "[2017-12-06 20:14:48,653] Clearing 2 monitor files from previous run (because force=True was provided)\n"
     ]
    },
    {
     "name": "stdout",
     "output_type": "stream",
     "text": [
      "Episode finished after 173 timesteps with reward=-367.5826565500918\n",
      "Episode finished after 178 timesteps with reward=-282.0079352514375\n"
     ]
    },
    {
     "name": "stderr",
     "output_type": "stream",
     "text": [
      "[2017-12-06 20:14:49,050] Finished writing results. You can upload them to the scoreboard via gym.upload('/home/misha/records')\n",
      " 29%|██▉       | 2902/10000 [03:33<08:41, 13.62it/s]"
     ]
    },
    {
     "name": "stdout",
     "output_type": "stream",
     "text": [
      "Episode finished after 244 timesteps with reward=-252.14801081099978\n",
      "iter=2900\tepsilon=0.102\n",
      "Current score(mean over 3) = -300.580\n"
     ]
    },
    {
     "name": "stderr",
     "output_type": "stream",
     "text": [
      " 30%|██▉       | 2998/10000 [03:40<08:35, 13.60it/s][2017-12-06 20:14:56,734] Making new env: LunarLander-v2\n",
      "[2017-12-06 20:14:56,736] Clearing 2 monitor files from previous run (because force=True was provided)\n"
     ]
    },
    {
     "name": "stdout",
     "output_type": "stream",
     "text": [
      "Episode finished after 142 timesteps with reward=-286.12644931982356\n",
      "Episode finished after 202 timesteps with reward=-154.6630527205774\n"
     ]
    },
    {
     "name": "stderr",
     "output_type": "stream",
     "text": [
      "[2017-12-06 20:14:57,075] Finished writing results. You can upload them to the scoreboard via gym.upload('/home/misha/records')\n",
      " 30%|███       | 3002/10000 [03:41<08:35, 13.58it/s]"
     ]
    },
    {
     "name": "stdout",
     "output_type": "stream",
     "text": [
      "Episode finished after 187 timesteps with reward=-298.30311635137923\n",
      "iter=3000\tepsilon=0.097\n",
      "Current score(mean over 3) = -246.364\n"
     ]
    },
    {
     "name": "stderr",
     "output_type": "stream",
     "text": [
      " 31%|███       | 3098/10000 [03:48<08:28, 13.57it/s][2017-12-06 20:15:04,513] Making new env: LunarLander-v2\n",
      "[2017-12-06 20:15:04,515] Clearing 2 monitor files from previous run (because force=True was provided)\n"
     ]
    },
    {
     "name": "stdout",
     "output_type": "stream",
     "text": [
      "Episode finished after 215 timesteps with reward=-256.33931061012197\n",
      "Episode finished after 332 timesteps with reward=-451.29705759555327\n"
     ]
    },
    {
     "name": "stderr",
     "output_type": "stream",
     "text": [
      "[2017-12-06 20:15:05,340] Finished writing results. You can upload them to the scoreboard via gym.upload('/home/misha/records')\n",
      " 31%|███       | 3102/10000 [03:49<08:30, 13.52it/s]"
     ]
    },
    {
     "name": "stdout",
     "output_type": "stream",
     "text": [
      "Episode finished after 291 timesteps with reward=-171.72939423773204\n",
      "iter=3100\tepsilon=0.093\n",
      "Current score(mean over 3) = -293.122\n"
     ]
    },
    {
     "name": "stderr",
     "output_type": "stream",
     "text": [
      " 32%|███▏      | 3198/10000 [03:57<08:24, 13.47it/s][2017-12-06 20:15:13,664] Making new env: LunarLander-v2\n",
      "[2017-12-06 20:15:13,668] Clearing 2 monitor files from previous run (because force=True was provided)\n"
     ]
    },
    {
     "name": "stdout",
     "output_type": "stream",
     "text": [
      "Episode finished after 306 timesteps with reward=-445.7192082864357\n",
      "Episode finished after 208 timesteps with reward=-306.63250508578875"
     ]
    },
    {
     "name": "stderr",
     "output_type": "stream",
     "text": [
      "[2017-12-06 20:15:14,421] Finished writing results. You can upload them to the scoreboard via gym.upload('/home/misha/records')\n",
      " 32%|███▏      | 3202/10000 [03:58<08:26, 13.43it/s]"
     ]
    },
    {
     "name": "stdout",
     "output_type": "stream",
     "text": [
      "\n",
      "Episode finished after 320 timesteps with reward=-431.89038618541076\n",
      "iter=3200\tepsilon=0.089\n",
      "Current score(mean over 3) = -394.747\n"
     ]
    },
    {
     "name": "stderr",
     "output_type": "stream",
     "text": [
      " 33%|███▎      | 3299/10000 [04:07<08:22, 13.33it/s][2017-12-06 20:15:23,619] Making new env: LunarLander-v2\n",
      "[2017-12-06 20:15:23,622] Clearing 2 monitor files from previous run (because force=True was provided)\n"
     ]
    },
    {
     "name": "stdout",
     "output_type": "stream",
     "text": [
      "Episode finished after 163 timesteps with reward=-323.1528061831493\n"
     ]
    },
    {
     "name": "stderr",
     "output_type": "stream",
     "text": [
      "[2017-12-06 20:15:24,075] Finished writing results. You can upload them to the scoreboard via gym.upload('/home/misha/records')\n",
      " 33%|███▎      | 3301/10000 [04:08<08:23, 13.31it/s]"
     ]
    },
    {
     "name": "stdout",
     "output_type": "stream",
     "text": [
      "Episode finished after 284 timesteps with reward=-200.18103580560114\n",
      "Episode finished after 115 timesteps with reward=-159.86297189398334\n",
      "iter=3300\tepsilon=0.085\n",
      "Current score(mean over 3) = -227.732\n"
     ]
    },
    {
     "name": "stderr",
     "output_type": "stream",
     "text": [
      " 34%|███▍      | 3399/10000 [04:16<08:17, 13.26it/s][2017-12-06 20:15:32,553] Making new env: LunarLander-v2\n",
      "[2017-12-06 20:15:32,556] Clearing 2 monitor files from previous run (because force=True was provided)\n"
     ]
    },
    {
     "name": "stdout",
     "output_type": "stream",
     "text": [
      "Episode finished after 285 timesteps with reward=-182.99896294150614\n",
      "Episode finished after 248 timesteps with reward=-224.19806181468303\n"
     ]
    },
    {
     "name": "stderr",
     "output_type": "stream",
     "text": [
      "[2017-12-06 20:15:33,564] Finished writing results. You can upload them to the scoreboard via gym.upload('/home/misha/records')\n",
      " 34%|███▍      | 3401/10000 [04:17<08:19, 13.20it/s]"
     ]
    },
    {
     "name": "stdout",
     "output_type": "stream",
     "text": [
      "Episode finished after 400 timesteps with reward=-284.9488060368361\n",
      "iter=3400\tepsilon=0.082\n",
      "Current score(mean over 3) = -230.715\n"
     ]
    },
    {
     "name": "stderr",
     "output_type": "stream",
     "text": [
      " 35%|███▍      | 3499/10000 [04:25<08:13, 13.18it/s][2017-12-06 20:15:41,690] Making new env: LunarLander-v2\n",
      "[2017-12-06 20:15:41,693] Clearing 2 monitor files from previous run (because force=True was provided)\n"
     ]
    },
    {
     "name": "stdout",
     "output_type": "stream",
     "text": [
      "Episode finished after 191 timesteps with reward=-216.09216951132447\n",
      "Episode finished after 220 timesteps with reward=-374.5071321357087\n"
     ]
    },
    {
     "name": "stderr",
     "output_type": "stream",
     "text": [
      "[2017-12-06 20:15:42,197] Finished writing results. You can upload them to the scoreboard via gym.upload('/home/misha/records')\n",
      " 35%|███▌      | 3501/10000 [04:26<08:14, 13.15it/s]"
     ]
    },
    {
     "name": "stdout",
     "output_type": "stream",
     "text": [
      "Episode finished after 243 timesteps with reward=-240.32907805578486\n",
      "iter=3500\tepsilon=0.079\n",
      "Current score(mean over 3) = -276.976\n"
     ]
    },
    {
     "name": "stderr",
     "output_type": "stream",
     "text": [
      " 36%|███▌      | 3599/10000 [04:33<08:07, 13.14it/s][2017-12-06 20:15:50,054] Making new env: LunarLander-v2\n",
      "[2017-12-06 20:15:50,057] Clearing 2 monitor files from previous run (because force=True was provided)\n"
     ]
    },
    {
     "name": "stdout",
     "output_type": "stream",
     "text": [
      "Episode finished after 155 timesteps with reward=-256.1246625629873\n",
      "Episode finished after 260 timesteps with reward=-244.47860993440483\n"
     ]
    },
    {
     "name": "stderr",
     "output_type": "stream",
     "text": [
      "[2017-12-06 20:15:50,735] Finished writing results. You can upload them to the scoreboard via gym.upload('/home/misha/records')\n",
      " 36%|███▌      | 3601/10000 [04:34<08:08, 13.10it/s]"
     ]
    },
    {
     "name": "stdout",
     "output_type": "stream",
     "text": [
      "Episode finished after 262 timesteps with reward=-131.71661273761256\n",
      "iter=3600\tepsilon=0.076\n",
      "Current score(mean over 3) = -210.773\n"
     ]
    },
    {
     "name": "stderr",
     "output_type": "stream",
     "text": [
      " 37%|███▋      | 3699/10000 [04:44<08:04, 13.02it/s][2017-12-06 20:16:00,307] Making new env: LunarLander-v2\n",
      "[2017-12-06 20:16:00,310] Clearing 2 monitor files from previous run (because force=True was provided)\n"
     ]
    },
    {
     "name": "stdout",
     "output_type": "stream",
     "text": [
      "Episode finished after 296 timesteps with reward=-296.7318469323874\n"
     ]
    },
    {
     "name": "stderr",
     "output_type": "stream",
     "text": [
      "[2017-12-06 20:16:01,170] Finished writing results. You can upload them to the scoreboard via gym.upload('/home/misha/records')\n",
      " 37%|███▋      | 3701/10000 [04:45<08:05, 12.98it/s]"
     ]
    },
    {
     "name": "stdout",
     "output_type": "stream",
     "text": [
      "Episode finished after 221 timesteps with reward=-314.8447683791275\n",
      "Episode finished after 259 timesteps with reward=-354.41154687444964\n",
      "iter=3700\tepsilon=0.073\n",
      "Current score(mean over 3) = -321.996\n"
     ]
    },
    {
     "name": "stderr",
     "output_type": "stream",
     "text": [
      " 38%|███▊      | 3799/10000 [04:53<07:58, 12.96it/s][2017-12-06 20:16:09,199] Making new env: LunarLander-v2\n",
      "[2017-12-06 20:16:09,202] Clearing 2 monitor files from previous run (because force=True was provided)\n"
     ]
    },
    {
     "name": "stdout",
     "output_type": "stream",
     "text": [
      "Episode finished after 87 timesteps with reward=-829.5817101730967\n",
      "Episode finished after 215 timesteps with reward=-62.53567177239532\n"
     ]
    },
    {
     "name": "stderr",
     "output_type": "stream",
     "text": [
      "[2017-12-06 20:16:09,579] Finished writing results. You can upload them to the scoreboard via gym.upload('/home/misha/records')\n",
      " 38%|███▊      | 3801/10000 [04:53<07:58, 12.95it/s]"
     ]
    },
    {
     "name": "stdout",
     "output_type": "stream",
     "text": [
      "Episode finished after 235 timesteps with reward=-412.3215891354559\n",
      "iter=3800\tepsilon=0.071\n",
      "Current score(mean over 3) = -434.813\n"
     ]
    },
    {
     "name": "stderr",
     "output_type": "stream",
     "text": [
      " 39%|███▉      | 3898/10000 [05:02<07:52, 12.90it/s][2017-12-06 20:16:18,369] Making new env: LunarLander-v2\n",
      "[2017-12-06 20:16:18,372] Clearing 2 monitor files from previous run (because force=True was provided)\n"
     ]
    },
    {
     "name": "stdout",
     "output_type": "stream",
     "text": [
      "Episode finished after 214 timesteps with reward=-338.75560776679697\n"
     ]
    },
    {
     "name": "stderr",
     "output_type": "stream",
     "text": [
      "[2017-12-06 20:16:19,022] Finished writing results. You can upload them to the scoreboard via gym.upload('/home/misha/records')\n",
      " 39%|███▉      | 3900/10000 [05:02<07:53, 12.87it/s]"
     ]
    },
    {
     "name": "stdout",
     "output_type": "stream",
     "text": [
      "Episode finished after 290 timesteps with reward=-251.0486674668817\n",
      "Episode finished after 224 timesteps with reward=-178.48153262321892\n",
      "iter=3900\tepsilon=0.069\n",
      "Current score(mean over 3) = -256.095\n"
     ]
    },
    {
     "name": "stderr",
     "output_type": "stream",
     "text": [
      " 40%|███▉      | 3999/10000 [05:11<07:47, 12.84it/s][2017-12-06 20:16:27,567] Making new env: LunarLander-v2\n",
      "[2017-12-06 20:16:27,574] Clearing 2 monitor files from previous run (because force=True was provided)\n"
     ]
    },
    {
     "name": "stdout",
     "output_type": "stream",
     "text": [
      "Episode finished after 211 timesteps with reward=-139.5060174907369\n"
     ]
    },
    {
     "name": "stderr",
     "output_type": "stream",
     "text": [
      "[2017-12-06 20:16:28,403] Finished writing results. You can upload them to the scoreboard via gym.upload('/home/misha/records')\n",
      " 40%|████      | 4000/10000 [05:12<07:48, 12.81it/s]"
     ]
    },
    {
     "name": "stdout",
     "output_type": "stream",
     "text": [
      "Episode finished after 320 timesteps with reward=-294.56676798607236\n",
      "Episode finished after 163 timesteps with reward=-123.23225631326736\n",
      "iter=4000\tepsilon=0.067\n",
      "Current score(mean over 3) = -185.768\n"
     ]
    },
    {
     "name": "stderr",
     "output_type": "stream",
     "text": [
      " 41%|████      | 4099/10000 [05:20<07:41, 12.78it/s][2017-12-06 20:16:36,991] Making new env: LunarLander-v2\n",
      "[2017-12-06 20:16:36,994] Clearing 2 monitor files from previous run (because force=True was provided)\n"
     ]
    },
    {
     "name": "stdout",
     "output_type": "stream",
     "text": [
      "Episode finished after 189 timesteps with reward=-378.57387441375846\n",
      "Episode finished after 196 timesteps with reward=-222.26900415234718\n"
     ]
    },
    {
     "name": "stderr",
     "output_type": "stream",
     "text": [
      "[2017-12-06 20:16:37,498] Finished writing results. You can upload them to the scoreboard via gym.upload('/home/misha/records')\n",
      " 41%|████      | 4101/10000 [05:21<07:42, 12.76it/s]"
     ]
    },
    {
     "name": "stdout",
     "output_type": "stream",
     "text": [
      "Episode finished after 268 timesteps with reward=-230.02543530690204\n",
      "iter=4100\tepsilon=0.066\n",
      "Current score(mean over 3) = -276.956\n"
     ]
    },
    {
     "name": "stderr",
     "output_type": "stream",
     "text": [
      " 42%|████▏     | 4199/10000 [05:29<07:34, 12.75it/s][2017-12-06 20:16:45,444] Making new env: LunarLander-v2\n",
      "[2017-12-06 20:16:45,448] Clearing 2 monitor files from previous run (because force=True was provided)\n"
     ]
    },
    {
     "name": "stdout",
     "output_type": "stream",
     "text": [
      "Episode finished after 152 timesteps with reward=-291.1914514361015\n"
     ]
    },
    {
     "name": "stderr",
     "output_type": "stream",
     "text": [
      "[2017-12-06 20:16:45,951] Finished writing results. You can upload them to the scoreboard via gym.upload('/home/misha/records')\n",
      " 42%|████▏     | 4201/10000 [05:29<07:35, 12.73it/s]"
     ]
    },
    {
     "name": "stdout",
     "output_type": "stream",
     "text": [
      "Episode finished after 226 timesteps with reward=-421.34582878370435\n",
      "Episode finished after 184 timesteps with reward=-242.02581606929863\n",
      "iter=4200\tepsilon=0.064\n",
      "Current score(mean over 3) = -318.188\n"
     ]
    },
    {
     "name": "stderr",
     "output_type": "stream",
     "text": [
      " 43%|████▎     | 4298/10000 [05:37<07:27, 12.74it/s][2017-12-06 20:16:53,626] Making new env: LunarLander-v2\n",
      "[2017-12-06 20:16:53,629] Clearing 2 monitor files from previous run (because force=True was provided)\n"
     ]
    },
    {
     "name": "stdout",
     "output_type": "stream",
     "text": [
      "Episode finished after 209 timesteps with reward=-385.6656313366037\n",
      "Episode finished after 246 timesteps with reward=-90.91970808049642"
     ]
    },
    {
     "name": "stderr",
     "output_type": "stream",
     "text": [
      "[2017-12-06 20:16:54,072] Finished writing results. You can upload them to the scoreboard via gym.upload('/home/misha/records')\n",
      " 43%|████▎     | 4302/10000 [05:38<07:27, 12.72it/s]"
     ]
    },
    {
     "name": "stdout",
     "output_type": "stream",
     "text": [
      "\n",
      "Episode finished after 166 timesteps with reward=-285.98591719697123\n",
      "iter=4300\tepsilon=0.063\n",
      "Current score(mean over 3) = -254.190\n"
     ]
    },
    {
     "name": "stderr",
     "output_type": "stream",
     "text": [
      " 44%|████▍     | 4399/10000 [05:46<07:20, 12.70it/s][2017-12-06 20:17:02,410] Making new env: LunarLander-v2\n",
      "[2017-12-06 20:17:02,413] Clearing 2 monitor files from previous run (because force=True was provided)\n"
     ]
    },
    {
     "name": "stdout",
     "output_type": "stream",
     "text": [
      "Episode finished after 245 timesteps with reward=-117.04851433946855\n",
      "Episode finished after 207 timesteps with reward=-383.3492453219359\n"
     ]
    },
    {
     "name": "stderr",
     "output_type": "stream",
     "text": [
      "[2017-12-06 20:17:02,968] Finished writing results. You can upload them to the scoreboard via gym.upload('/home/misha/records')\n",
      " 44%|████▍     | 4401/10000 [05:46<07:21, 12.68it/s]"
     ]
    },
    {
     "name": "stdout",
     "output_type": "stream",
     "text": [
      "Episode finished after 147 timesteps with reward=-101.65977914790115\n",
      "iter=4400\tepsilon=0.062\n",
      "Current score(mean over 3) = -200.686\n"
     ]
    },
    {
     "name": "stderr",
     "output_type": "stream",
     "text": [
      " 45%|████▍     | 4499/10000 [05:55<07:14, 12.67it/s][2017-12-06 20:17:11,204] Making new env: LunarLander-v2\n",
      "[2017-12-06 20:17:11,207] Clearing 2 monitor files from previous run (because force=True was provided)\n"
     ]
    },
    {
     "name": "stdout",
     "output_type": "stream",
     "text": [
      "Episode finished after 208 timesteps with reward=-486.7583430047225\n",
      "Episode finished after 207 timesteps with reward=-259.46625218938004\n"
     ]
    },
    {
     "name": "stderr",
     "output_type": "stream",
     "text": [
      "[2017-12-06 20:17:11,681] Finished writing results. You can upload them to the scoreboard via gym.upload('/home/misha/records')\n",
      " 45%|████▌     | 4501/10000 [05:55<07:14, 12.65it/s]"
     ]
    },
    {
     "name": "stdout",
     "output_type": "stream",
     "text": [
      "Episode finished after 241 timesteps with reward=-390.9616241211933\n",
      "iter=4500\tepsilon=0.061\n",
      "Current score(mean over 3) = -379.062\n"
     ]
    },
    {
     "name": "stderr",
     "output_type": "stream",
     "text": [
      " 46%|████▌     | 4599/10000 [06:04<07:07, 12.62it/s][2017-12-06 20:17:20,545] Making new env: LunarLander-v2\n",
      "[2017-12-06 20:17:20,548] Clearing 2 monitor files from previous run (because force=True was provided)\n"
     ]
    },
    {
     "name": "stdout",
     "output_type": "stream",
     "text": [
      "Episode finished after 168 timesteps with reward=-47.263476703910044\n",
      "Episode finished after 147 timesteps with reward=-250.9580592031988\n"
     ]
    },
    {
     "name": "stderr",
     "output_type": "stream",
     "text": [
      "[2017-12-06 20:17:21,059] Finished writing results. You can upload them to the scoreboard via gym.upload('/home/misha/records')\n",
      " 46%|████▌     | 4601/10000 [06:05<07:08, 12.60it/s]"
     ]
    },
    {
     "name": "stdout",
     "output_type": "stream",
     "text": [
      "Episode finished after 233 timesteps with reward=-387.66830531000454\n",
      "iter=4600\tepsilon=0.060\n",
      "Current score(mean over 3) = -228.630\n"
     ]
    },
    {
     "name": "stderr",
     "output_type": "stream",
     "text": [
      " 47%|████▋     | 4699/10000 [06:12<07:00, 12.60it/s][2017-12-06 20:17:29,019] Making new env: LunarLander-v2\n",
      "[2017-12-06 20:17:29,021] Clearing 2 monitor files from previous run (because force=True was provided)\n"
     ]
    },
    {
     "name": "stdout",
     "output_type": "stream",
     "text": [
      "Episode finished after 186 timesteps with reward=-132.9393969706022\n",
      "Episode finished after 151 timesteps with reward=-105.5155213081442\n"
     ]
    },
    {
     "name": "stderr",
     "output_type": "stream",
     "text": [
      "[2017-12-06 20:17:29,406] Finished writing results. You can upload them to the scoreboard via gym.upload('/home/misha/records')\n",
      " 47%|████▋     | 4701/10000 [06:13<07:00, 12.59it/s]"
     ]
    },
    {
     "name": "stdout",
     "output_type": "stream",
     "text": [
      "Episode finished after 177 timesteps with reward=-258.09775231969695\n",
      "iter=4700\tepsilon=0.059\n",
      "Current score(mean over 3) = -165.518\n"
     ]
    },
    {
     "name": "stderr",
     "output_type": "stream",
     "text": [
      " 48%|████▊     | 4799/10000 [06:20<06:52, 12.61it/s][2017-12-06 20:17:36,818] Making new env: LunarLander-v2\n",
      "[2017-12-06 20:17:36,821] Clearing 2 monitor files from previous run (because force=True was provided)\n",
      "[2017-12-06 20:17:37,254] Finished writing results. You can upload them to the scoreboard via gym.upload('/home/misha/records')\n"
     ]
    },
    {
     "name": "stdout",
     "output_type": "stream",
     "text": [
      "Episode finished after 233 timesteps with reward=-39.70869641858242\n",
      "Episode finished after 159 timesteps with reward=-273.1269142858713\n",
      "Episode finished after 165 timesteps with reward=-95.72081723980516\n",
      "iter=4800\tepsilon=0.058\n",
      "Current score(mean over 3) = -136.185\n"
     ]
    },
    {
     "name": "stderr",
     "output_type": "stream",
     "text": [
      " 49%|████▉     | 4899/10000 [06:28<06:44, 12.61it/s][2017-12-06 20:17:44,699] Making new env: LunarLander-v2\n",
      "[2017-12-06 20:17:44,701] Clearing 2 monitor files from previous run (because force=True was provided)\n"
     ]
    },
    {
     "name": "stdout",
     "output_type": "stream",
     "text": [
      "Episode finished after 72 timesteps with reward=-305.04696985044575\n"
     ]
    },
    {
     "name": "stderr",
     "output_type": "stream",
     "text": [
      "[2017-12-06 20:17:46,159] Finished writing results. You can upload them to the scoreboard via gym.upload('/home/misha/records')\n",
      " 49%|████▉     | 4901/10000 [06:30<06:45, 12.56it/s]"
     ]
    },
    {
     "name": "stdout",
     "output_type": "stream",
     "text": [
      "Episode finished after 785 timesteps with reward=-152.14849501593795\n",
      "Episode finished after 82 timesteps with reward=-643.6110482473994\n",
      "iter=4900\tepsilon=0.057\n",
      "Current score(mean over 3) = -366.936\n"
     ]
    },
    {
     "name": "stderr",
     "output_type": "stream",
     "text": [
      " 50%|████▉     | 4998/10000 [06:37<06:37, 12.57it/s][2017-12-06 20:17:53,704] Making new env: LunarLander-v2\n",
      "[2017-12-06 20:17:53,707] Clearing 2 monitor files from previous run (because force=True was provided)\n"
     ]
    },
    {
     "name": "stdout",
     "output_type": "stream",
     "text": [
      "Episode finished after 248 timesteps with reward=-292.1324897937899\n"
     ]
    },
    {
     "name": "stderr",
     "output_type": "stream",
     "text": [
      "[2017-12-06 20:17:54,532] Finished writing results. You can upload them to the scoreboard via gym.upload('/home/misha/records')\n",
      " 50%|█████     | 5000/10000 [06:38<06:38, 12.55it/s]"
     ]
    },
    {
     "name": "stdout",
     "output_type": "stream",
     "text": [
      "Episode finished after 404 timesteps with reward=-251.4000336892116\n",
      "Episode finished after 201 timesteps with reward=-281.92190103585403\n",
      "iter=5000\tepsilon=0.056\n",
      "Current score(mean over 3) = -275.151\n"
     ]
    },
    {
     "name": "stderr",
     "output_type": "stream",
     "text": [
      " 51%|█████     | 5098/10000 [06:45<06:30, 12.57it/s][2017-12-06 20:18:01,907] Making new env: LunarLander-v2\n",
      "[2017-12-06 20:18:01,910] Clearing 2 monitor files from previous run (because force=True was provided)\n",
      "[2017-12-06 20:18:02,207] Finished writing results. You can upload them to the scoreboard via gym.upload('/home/misha/records')\n",
      " 51%|█████     | 5100/10000 [06:46<06:30, 12.56it/s]"
     ]
    },
    {
     "name": "stdout",
     "output_type": "stream",
     "text": [
      "Episode finished after 145 timesteps with reward=-249.38318346837912\n",
      "Episode finished after 213 timesteps with reward=-236.43960761559543\n",
      "Episode finished after 93 timesteps with reward=-187.1194316393956\n",
      "iter=5100\tepsilon=0.056\n",
      "Current score(mean over 3) = -224.314\n"
     ]
    },
    {
     "name": "stderr",
     "output_type": "stream",
     "text": [
      " 52%|█████▏    | 5198/10000 [06:53<06:22, 12.56it/s][2017-12-06 20:18:10,057] Making new env: LunarLander-v2\n",
      "[2017-12-06 20:18:10,059] Clearing 2 monitor files from previous run (because force=True was provided)\n",
      "[2017-12-06 20:18:10,280] Finished writing results. You can upload them to the scoreboard via gym.upload('/home/misha/records')\n",
      " 52%|█████▏    | 5200/10000 [06:54<06:22, 12.55it/s]"
     ]
    },
    {
     "name": "stdout",
     "output_type": "stream",
     "text": [
      "Episode finished after 99 timesteps with reward=-32.15905748955403\n",
      "Episode finished after 151 timesteps with reward=-281.74812261620616\n",
      "Episode finished after 120 timesteps with reward=-263.9236296402046\n",
      "iter=5200\tepsilon=0.055\n",
      "Current score(mean over 3) = -192.610\n"
     ]
    },
    {
     "name": "stderr",
     "output_type": "stream",
     "text": [
      " 53%|█████▎    | 5298/10000 [07:01<06:13, 12.57it/s][2017-12-06 20:18:17,575] Making new env: LunarLander-v2\n",
      "[2017-12-06 20:18:17,578] Clearing 2 monitor files from previous run (because force=True was provided)\n",
      "[2017-12-06 20:18:17,859] Finished writing results. You can upload them to the scoreboard via gym.upload('/home/misha/records')\n",
      " 53%|█████▎    | 5300/10000 [07:01<06:14, 12.57it/s]"
     ]
    },
    {
     "name": "stdout",
     "output_type": "stream",
     "text": [
      "Episode finished after 73 timesteps with reward=-499.12372704721025\n",
      "Episode finished after 188 timesteps with reward=-244.8524323624976\n",
      "Episode finished after 167 timesteps with reward=-228.62631589358685\n",
      "iter=5300\tepsilon=0.055\n",
      "Current score(mean over 3) = -324.201\n"
     ]
    },
    {
     "name": "stderr",
     "output_type": "stream",
     "text": [
      " 54%|█████▍    | 5398/10000 [07:09<06:06, 12.57it/s][2017-12-06 20:18:25,665] Making new env: LunarLander-v2\n",
      "[2017-12-06 20:18:25,668] Clearing 2 monitor files from previous run (because force=True was provided)\n",
      "[2017-12-06 20:18:25,859] Finished writing results. You can upload them to the scoreboard via gym.upload('/home/misha/records')\n",
      " 54%|█████▍    | 5400/10000 [07:09<06:06, 12.56it/s]"
     ]
    },
    {
     "name": "stdout",
     "output_type": "stream",
     "text": [
      "Episode finished after 84 timesteps with reward=-283.0548462054379\n",
      "Episode finished after 83 timesteps with reward=-535.9387060427205\n",
      "Episode finished after 145 timesteps with reward=-72.03951231847195\n",
      "iter=5400\tepsilon=0.054\n",
      "Current score(mean over 3) = -297.011\n"
     ]
    },
    {
     "name": "stderr",
     "output_type": "stream",
     "text": [
      " 55%|█████▍    | 5498/10000 [07:17<05:58, 12.56it/s][2017-12-06 20:18:33,813] Making new env: LunarLander-v2\n",
      "[2017-12-06 20:18:33,816] Clearing 2 monitor files from previous run (because force=True was provided)\n",
      "[2017-12-06 20:18:34,031] Finished writing results. You can upload them to the scoreboard via gym.upload('/home/misha/records')\n",
      " 55%|█████▌    | 5500/10000 [07:17<05:58, 12.56it/s]"
     ]
    },
    {
     "name": "stdout",
     "output_type": "stream",
     "text": [
      "Episode finished after 72 timesteps with reward=-496.47379346764797\n",
      "Episode finished after 131 timesteps with reward=-208.01923516292885\n",
      "Episode finished after 149 timesteps with reward=-200.6312517676109\n",
      "iter=5500\tepsilon=0.054\n",
      "Current score(mean over 3) = -301.708\n"
     ]
    },
    {
     "name": "stderr",
     "output_type": "stream",
     "text": [
      " 56%|█████▌    | 5598/10000 [07:24<05:49, 12.58it/s][2017-12-06 20:18:41,171] Making new env: LunarLander-v2\n",
      "[2017-12-06 20:18:41,173] Clearing 2 monitor files from previous run (because force=True was provided)\n",
      "[2017-12-06 20:18:41,886] Finished writing results. You can upload them to the scoreboard via gym.upload('/home/misha/records')\n",
      " 56%|█████▌    | 5600/10000 [07:25<05:50, 12.56it/s]"
     ]
    },
    {
     "name": "stdout",
     "output_type": "stream",
     "text": [
      "Episode finished after 412 timesteps with reward=-415.2770220241409\n",
      "Episode finished after 138 timesteps with reward=-454.93685042361824\n",
      "Episode finished after 163 timesteps with reward=-219.82225584554558\n",
      "iter=5600\tepsilon=0.054\n",
      "Current score(mean over 3) = -363.345\n"
     ]
    },
    {
     "name": "stderr",
     "output_type": "stream",
     "text": [
      " 57%|█████▋    | 5698/10000 [07:33<05:42, 12.57it/s][2017-12-06 20:18:49,621] Making new env: LunarLander-v2\n",
      "[2017-12-06 20:18:49,624] Clearing 2 monitor files from previous run (because force=True was provided)\n"
     ]
    },
    {
     "name": "stdout",
     "output_type": "stream",
     "text": [
      "Episode finished after 108 timesteps with reward=-52.496307273303685\n",
      "Episode finished after 273 timesteps with reward=-136.88146234148093\n"
     ]
    },
    {
     "name": "stderr",
     "output_type": "stream",
     "text": [
      "[2017-12-06 20:18:50,613] Finished writing results. You can upload them to the scoreboard via gym.upload('/home/misha/records')\n",
      " 57%|█████▋    | 5702/10000 [07:34<05:42, 12.54it/s]"
     ]
    },
    {
     "name": "stdout",
     "output_type": "stream",
     "text": [
      "Episode finished after 582 timesteps with reward=-124.86371158215728\n",
      "iter=5700\tepsilon=0.053\n",
      "Current score(mean over 3) = -104.747\n"
     ]
    },
    {
     "name": "stderr",
     "output_type": "stream",
     "text": [
      " 58%|█████▊    | 5798/10000 [07:42<05:35, 12.54it/s][2017-12-06 20:18:58,689] Making new env: LunarLander-v2\n",
      "[2017-12-06 20:18:58,691] Clearing 2 monitor files from previous run (because force=True was provided)\n",
      "[2017-12-06 20:18:58,968] Finished writing results. You can upload them to the scoreboard via gym.upload('/home/misha/records')\n",
      " 58%|█████▊    | 5800/10000 [07:42<05:35, 12.53it/s]"
     ]
    },
    {
     "name": "stdout",
     "output_type": "stream",
     "text": [
      "Episode finished after 191 timesteps with reward=-261.0730115049446\n",
      "Episode finished after 126 timesteps with reward=-61.29583891649714\n",
      "Episode finished after 115 timesteps with reward=-227.44240852777483\n",
      "iter=5800\tepsilon=0.053\n",
      "Current score(mean over 3) = -183.270\n"
     ]
    },
    {
     "name": "stderr",
     "output_type": "stream",
     "text": [
      " 59%|█████▉    | 5898/10000 [07:50<05:27, 12.53it/s][2017-12-06 20:19:07,072] Making new env: LunarLander-v2\n",
      "[2017-12-06 20:19:07,075] Clearing 2 monitor files from previous run (because force=True was provided)\n",
      "[2017-12-06 20:19:07,423] Finished writing results. You can upload them to the scoreboard via gym.upload('/home/misha/records')\n",
      " 59%|█████▉    | 5900/10000 [07:51<05:27, 12.52it/s]"
     ]
    },
    {
     "name": "stdout",
     "output_type": "stream",
     "text": [
      "Episode finished after 259 timesteps with reward=-325.23256658871367\n",
      "Episode finished after 157 timesteps with reward=-78.12008817741724\n",
      "Episode finished after 87 timesteps with reward=-203.8639973141538\n",
      "iter=5900\tepsilon=0.053\n",
      "Current score(mean over 3) = -202.406\n"
     ]
    },
    {
     "name": "stderr",
     "output_type": "stream",
     "text": [
      " 60%|█████▉    | 5999/10000 [08:03<05:22, 12.40it/s][2017-12-06 20:19:19,827] Making new env: LunarLander-v2\n",
      "[2017-12-06 20:19:19,830] Clearing 2 monitor files from previous run (because force=True was provided)\n"
     ]
    },
    {
     "name": "stdout",
     "output_type": "stream",
     "text": [
      "Episode finished after 414 timesteps with reward=-132.25846727063745\n"
     ]
    },
    {
     "name": "stderr",
     "output_type": "stream",
     "text": [
      "[2017-12-06 20:19:21,059] Finished writing results. You can upload them to the scoreboard via gym.upload('/home/misha/records')\n",
      " 60%|██████    | 6001/10000 [08:05<05:23, 12.37it/s]"
     ]
    },
    {
     "name": "stdout",
     "output_type": "stream",
     "text": [
      "Episode finished after 357 timesteps with reward=-67.5869416208271\n",
      "Episode finished after 399 timesteps with reward=-68.76686641237602\n",
      "iter=6000\tepsilon=0.052\n",
      "Current score(mean over 3) = -89.537\n"
     ]
    },
    {
     "name": "stderr",
     "output_type": "stream",
     "text": [
      " 61%|██████    | 6098/10000 [08:15<05:17, 12.31it/s][2017-12-06 20:19:31,796] Making new env: LunarLander-v2\n",
      "[2017-12-06 20:19:31,798] Clearing 2 monitor files from previous run (because force=True was provided)\n"
     ]
    },
    {
     "name": "stdout",
     "output_type": "stream",
     "text": [
      "Episode finished after 200 timesteps with reward=-97.37786234436169\n"
     ]
    },
    {
     "name": "stderr",
     "output_type": "stream",
     "text": [
      "[2017-12-06 20:19:32,283] Finished writing results. You can upload them to the scoreboard via gym.upload('/home/misha/records')\n",
      " 61%|██████    | 6101/10000 [08:16<05:17, 12.29it/s]"
     ]
    },
    {
     "name": "stdout",
     "output_type": "stream",
     "text": [
      "Episode finished after 279 timesteps with reward=-79.94729921917599\n",
      "Episode finished after 80 timesteps with reward=-201.27514661102606\n",
      "iter=6100\tepsilon=0.052\n",
      "Current score(mean over 3) = -126.200\n"
     ]
    },
    {
     "name": "stderr",
     "output_type": "stream",
     "text": [
      " 62%|██████▏   | 6198/10000 [08:25<05:10, 12.26it/s][2017-12-06 20:19:41,628] Making new env: LunarLander-v2\n",
      "[2017-12-06 20:19:41,630] Clearing 2 monitor files from previous run (because force=True was provided)\n"
     ]
    },
    {
     "name": "stdout",
     "output_type": "stream",
     "text": [
      "Episode finished after 394 timesteps with reward=-158.50958312225717\n"
     ]
    },
    {
     "name": "stderr",
     "output_type": "stream",
     "text": [
      "[2017-12-06 20:19:43,038] Finished writing results. You can upload them to the scoreboard via gym.upload('/home/misha/records')\n",
      " 62%|██████▏   | 6200/10000 [08:26<05:10, 12.23it/s]"
     ]
    },
    {
     "name": "stdout",
     "output_type": "stream",
     "text": [
      "Episode finished after 487 timesteps with reward=88.2910640570317\n",
      "Episode finished after 152 timesteps with reward=-28.43044178241098\n",
      "iter=6200\tepsilon=0.052\n",
      "Current score(mean over 3) = -32.883\n"
     ]
    },
    {
     "name": "stderr",
     "output_type": "stream",
     "text": [
      " 63%|██████▎   | 6299/10000 [08:39<05:05, 12.13it/s][2017-12-06 20:19:55,550] Making new env: LunarLander-v2\n",
      "[2017-12-06 20:19:55,556] Clearing 2 monitor files from previous run (because force=True was provided)\n"
     ]
    },
    {
     "name": "stdout",
     "output_type": "stream",
     "text": [
      "Episode finished after 264 timesteps with reward=-122.9347162365215\n",
      "Episode finished after 472 timesteps with reward=-247.10757312568603\n"
     ]
    },
    {
     "name": "stderr",
     "output_type": "stream",
     "text": [
      "[2017-12-06 20:19:58,003] Finished writing results. You can upload them to the scoreboard via gym.upload('/home/misha/records')\n",
      " 63%|██████▎   | 6301/10000 [08:42<05:06, 12.07it/s]"
     ]
    },
    {
     "name": "stdout",
     "output_type": "stream",
     "text": [
      "Episode finished after 726 timesteps with reward=-217.6785239183059\n",
      "iter=6300\tepsilon=0.052\n",
      "Current score(mean over 3) = -195.907\n"
     ]
    },
    {
     "name": "stderr",
     "output_type": "stream",
     "text": [
      " 64%|██████▍   | 6399/10000 [08:53<05:00, 11.99it/s][2017-12-06 20:20:09,980] Making new env: LunarLander-v2\n",
      "[2017-12-06 20:20:09,982] Clearing 2 monitor files from previous run (because force=True was provided)\n"
     ]
    },
    {
     "name": "stdout",
     "output_type": "stream",
     "text": [
      "Episode finished after 584 timesteps with reward=-131.6502080512372\n",
      "Episode finished after 1000 timesteps with reward=-267.82330430078383\n"
     ]
    },
    {
     "name": "stderr",
     "output_type": "stream",
     "text": [
      "[2017-12-06 20:20:14,699] Finished writing results. You can upload them to the scoreboard via gym.upload('/home/misha/records')\n",
      " 64%|██████▍   | 6400/10000 [08:58<05:02, 11.88it/s]"
     ]
    },
    {
     "name": "stdout",
     "output_type": "stream",
     "text": [
      "Episode finished after 1000 timesteps with reward=-245.51824159929194\n",
      "iter=6400\tepsilon=0.052\n",
      "Current score(mean over 3) = -214.997\n"
     ]
    },
    {
     "name": "stderr",
     "output_type": "stream",
     "text": [
      " 65%|██████▍   | 6499/10000 [09:11<04:57, 11.77it/s][2017-12-06 20:20:28,127] Making new env: LunarLander-v2\n",
      "[2017-12-06 20:20:28,131] Clearing 2 monitor files from previous run (because force=True was provided)\n"
     ]
    },
    {
     "name": "stdout",
     "output_type": "stream",
     "text": [
      "Episode finished after 961 timesteps with reward=-183.87510573624664\n",
      "Episode finished after 1000 timesteps with reward=-206.33500442995117\n"
     ]
    },
    {
     "name": "stderr",
     "output_type": "stream",
     "text": [
      "[2017-12-06 20:20:33,714] Finished writing results. You can upload them to the scoreboard via gym.upload('/home/misha/records')\n",
      " 65%|██████▌   | 6501/10000 [09:17<05:00, 11.66it/s]"
     ]
    },
    {
     "name": "stdout",
     "output_type": "stream",
     "text": [
      "Episode finished after 391 timesteps with reward=-71.12000482432683\n",
      "iter=6500\tepsilon=0.051\n",
      "Current score(mean over 3) = -153.777\n"
     ]
    },
    {
     "name": "stderr",
     "output_type": "stream",
     "text": [
      " 66%|██████▌   | 6599/10000 [09:31<04:54, 11.55it/s][2017-12-06 20:20:47,358] Making new env: LunarLander-v2\n",
      "[2017-12-06 20:20:47,361] Clearing 2 monitor files from previous run (because force=True was provided)\n"
     ]
    },
    {
     "name": "stdout",
     "output_type": "stream",
     "text": [
      "Episode finished after 609 timesteps with reward=-329.54165842508655\n",
      "Episode finished after 1000 timesteps with reward=-284.92392325925795\n"
     ]
    },
    {
     "name": "stderr",
     "output_type": "stream",
     "text": [
      "[2017-12-06 20:20:50,771] Finished writing results. You can upload them to the scoreboard via gym.upload('/home/misha/records')\n",
      " 66%|██████▌   | 6601/10000 [09:34<04:56, 11.48it/s]"
     ]
    },
    {
     "name": "stdout",
     "output_type": "stream",
     "text": [
      "Episode finished after 570 timesteps with reward=-231.917382663402\n",
      "iter=6600\tepsilon=0.051\n",
      "Current score(mean over 3) = -282.128\n"
     ]
    },
    {
     "name": "stderr",
     "output_type": "stream",
     "text": [
      " 67%|██████▋   | 6699/10000 [09:49<04:50, 11.37it/s][2017-12-06 20:21:05,556] Making new env: LunarLander-v2\n",
      "[2017-12-06 20:21:05,559] Clearing 2 monitor files from previous run (because force=True was provided)\n"
     ]
    },
    {
     "name": "stdout",
     "output_type": "stream",
     "text": [
      "Episode finished after 660 timesteps with reward=-306.7420591697706\n"
     ]
    },
    {
     "name": "stderr",
     "output_type": "stream",
     "text": [
      "[2017-12-06 20:21:08,147] Finished writing results. You can upload them to the scoreboard via gym.upload('/home/misha/records')\n",
      " 67%|██████▋   | 6700/10000 [09:52<04:51, 11.32it/s]"
     ]
    },
    {
     "name": "stdout",
     "output_type": "stream",
     "text": [
      "Episode finished after 692 timesteps with reward=-278.7352715243365\n",
      "Episode finished after 384 timesteps with reward=-262.4593671694877\n",
      "iter=6700\tepsilon=0.051\n",
      "Current score(mean over 3) = -282.646\n"
     ]
    },
    {
     "name": "stderr",
     "output_type": "stream",
     "text": [
      " 68%|██████▊   | 6798/10000 [10:03<04:44, 11.27it/s][2017-12-06 20:21:19,357] Making new env: LunarLander-v2\n",
      "[2017-12-06 20:21:19,360] Clearing 2 monitor files from previous run (because force=True was provided)\n"
     ]
    },
    {
     "name": "stdout",
     "output_type": "stream",
     "text": [
      "Episode finished after 803 timesteps with reward=-226.44184906882984\n",
      "Episode finished after 406 timesteps with reward=-270.89705529193907\n"
     ]
    },
    {
     "name": "stderr",
     "output_type": "stream",
     "text": [
      "[2017-12-06 20:21:21,646] Finished writing results. You can upload them to the scoreboard via gym.upload('/home/misha/records')\n",
      " 68%|██████▊   | 6801/10000 [10:05<04:44, 11.23it/s]"
     ]
    },
    {
     "name": "stdout",
     "output_type": "stream",
     "text": [
      "Episode finished after 428 timesteps with reward=-211.94225545171975\n",
      "iter=6800\tepsilon=0.051\n",
      "Current score(mean over 3) = -236.427\n"
     ]
    },
    {
     "name": "stderr",
     "output_type": "stream",
     "text": [
      " 69%|██████▉   | 6899/10000 [10:18<04:38, 11.15it/s][2017-12-06 20:21:35,087] Making new env: LunarLander-v2\n",
      "[2017-12-06 20:21:35,089] Clearing 2 monitor files from previous run (because force=True was provided)\n"
     ]
    },
    {
     "name": "stdout",
     "output_type": "stream",
     "text": [
      "Episode finished after 678 timesteps with reward=-256.2293961389091\n",
      "Episode finished after 1000 timesteps with reward=-210.75735995750986\n"
     ]
    },
    {
     "name": "stderr",
     "output_type": "stream",
     "text": [
      "[2017-12-06 20:21:40,265] Finished writing results. You can upload them to the scoreboard via gym.upload('/home/misha/records')\n",
      " 69%|██████▉   | 6902/10000 [10:24<04:40, 11.06it/s]"
     ]
    },
    {
     "name": "stdout",
     "output_type": "stream",
     "text": [
      "Episode finished after 1000 timesteps with reward=-242.58641661762445\n",
      "iter=6900\tepsilon=0.051\n",
      "Current score(mean over 3) = -236.524\n"
     ]
    },
    {
     "name": "stderr",
     "output_type": "stream",
     "text": [
      " 70%|██████▉   | 6998/10000 [10:35<04:32, 11.01it/s][2017-12-06 20:21:51,722] Making new env: LunarLander-v2\n",
      "[2017-12-06 20:21:51,725] Clearing 2 monitor files from previous run (because force=True was provided)\n"
     ]
    },
    {
     "name": "stdout",
     "output_type": "stream",
     "text": [
      "Episode finished after 583 timesteps with reward=-212.70471691372242\n",
      "Episode finished after 1000 timesteps with reward=-226.43422594233408\n"
     ]
    },
    {
     "name": "stderr",
     "output_type": "stream",
     "text": [
      "[2017-12-06 20:21:56,173] Finished writing results. You can upload them to the scoreboard via gym.upload('/home/misha/records')\n",
      " 70%|███████   | 7001/10000 [10:40<04:34, 10.93it/s]"
     ]
    },
    {
     "name": "stdout",
     "output_type": "stream",
     "text": [
      "Episode finished after 1000 timesteps with reward=-201.80405100391127\n",
      "iter=7000\tepsilon=0.051\n",
      "Current score(mean over 3) = -213.648\n"
     ]
    },
    {
     "name": "stderr",
     "output_type": "stream",
     "text": [
      " 71%|███████   | 7099/10000 [10:56<04:28, 10.82it/s][2017-12-06 20:22:12,329] Making new env: LunarLander-v2\n",
      "[2017-12-06 20:22:12,332] Clearing 2 monitor files from previous run (because force=True was provided)\n"
     ]
    },
    {
     "name": "stdout",
     "output_type": "stream",
     "text": [
      "Episode finished after 407 timesteps with reward=224.31613780075762\n",
      "Episode finished after 1000 timesteps with reward=-221.4660532203038\n"
     ]
    },
    {
     "name": "stderr",
     "output_type": "stream",
     "text": [
      "[2017-12-06 20:22:18,479] Finished writing results. You can upload them to the scoreboard via gym.upload('/home/misha/records')\n",
      " 71%|███████   | 7102/10000 [11:02<04:30, 10.72it/s]"
     ]
    },
    {
     "name": "stdout",
     "output_type": "stream",
     "text": [
      "Episode finished after 895 timesteps with reward=-370.7469785092767\n",
      "iter=7100\tepsilon=0.051\n",
      "Current score(mean over 3) = -122.632\n"
     ]
    },
    {
     "name": "stderr",
     "output_type": "stream",
     "text": [
      " 72%|███████▏  | 7199/10000 [11:16<04:23, 10.65it/s][2017-12-06 20:22:32,290] Making new env: LunarLander-v2\n",
      "[2017-12-06 20:22:32,293] Clearing 2 monitor files from previous run (because force=True was provided)\n"
     ]
    },
    {
     "name": "stdout",
     "output_type": "stream",
     "text": [
      "Episode finished after 1000 timesteps with reward=-142.70552368709573\n",
      "Episode finished after 614 timesteps with reward=-239.6051643162827\n"
     ]
    },
    {
     "name": "stderr",
     "output_type": "stream",
     "text": [
      "[2017-12-06 20:22:36,503] Finished writing results. You can upload them to the scoreboard via gym.upload('/home/misha/records')\n",
      " 72%|███████▏  | 7201/10000 [11:20<04:24, 10.58it/s]"
     ]
    },
    {
     "name": "stdout",
     "output_type": "stream",
     "text": [
      "Episode finished after 590 timesteps with reward=-227.23023065558607\n",
      "iter=7200\tepsilon=0.051\n",
      "Current score(mean over 3) = -203.180\n"
     ]
    },
    {
     "name": "stderr",
     "output_type": "stream",
     "text": [
      " 73%|███████▎  | 7299/10000 [11:31<04:16, 10.55it/s][2017-12-06 20:22:48,121] Making new env: LunarLander-v2\n",
      "[2017-12-06 20:22:48,124] Clearing 2 monitor files from previous run (because force=True was provided)\n"
     ]
    },
    {
     "name": "stdout",
     "output_type": "stream",
     "text": [
      "Episode finished after 861 timesteps with reward=-263.6278804852419\n",
      "Episode finished after 842 timesteps with reward=-284.2128845257398\n"
     ]
    },
    {
     "name": "stderr",
     "output_type": "stream",
     "text": [
      "[2017-12-06 20:22:53,444] Finished writing results. You can upload them to the scoreboard via gym.upload('/home/misha/records')\n",
      " 73%|███████▎  | 7301/10000 [11:37<04:17, 10.47it/s]"
     ]
    },
    {
     "name": "stdout",
     "output_type": "stream",
     "text": [
      "Episode finished after 892 timesteps with reward=-300.23725171819706\n",
      "iter=7300\tepsilon=0.051\n",
      "Current score(mean over 3) = -282.693\n"
     ]
    },
    {
     "name": "stderr",
     "output_type": "stream",
     "text": [
      " 74%|███████▍  | 7398/10000 [11:52<04:10, 10.39it/s][2017-12-06 20:23:08,424] Making new env: LunarLander-v2\n",
      "[2017-12-06 20:23:08,427] Clearing 2 monitor files from previous run (because force=True was provided)\n"
     ]
    },
    {
     "name": "stdout",
     "output_type": "stream",
     "text": [
      "Episode finished after 632 timesteps with reward=-231.09249978442193\n",
      "Episode finished after 1000 timesteps with reward=-132.041713357771\n"
     ]
    },
    {
     "name": "stderr",
     "output_type": "stream",
     "text": [
      "[2017-12-06 20:23:15,095] Finished writing results. You can upload them to the scoreboard via gym.upload('/home/misha/records')\n",
      " 74%|███████▍  | 7402/10000 [11:59<04:12, 10.29it/s]"
     ]
    },
    {
     "name": "stdout",
     "output_type": "stream",
     "text": [
      "Episode finished after 980 timesteps with reward=-282.9217891257553\n",
      "iter=7400\tepsilon=0.051\n",
      "Current score(mean over 3) = -215.352\n"
     ]
    },
    {
     "name": "stderr",
     "output_type": "stream",
     "text": [
      " 75%|███████▍  | 7498/10000 [12:11<04:04, 10.24it/s][2017-12-06 20:23:28,265] Making new env: LunarLander-v2\n",
      "[2017-12-06 20:23:28,268] Clearing 2 monitor files from previous run (because force=True was provided)\n"
     ]
    },
    {
     "name": "stdout",
     "output_type": "stream",
     "text": [
      "Episode finished after 702 timesteps with reward=-249.1575920322101\n",
      "Episode finished after 927 timesteps with reward=-309.29939989960235\n"
     ]
    },
    {
     "name": "stderr",
     "output_type": "stream",
     "text": [
      "[2017-12-06 20:23:32,350] Finished writing results. You can upload them to the scoreboard via gym.upload('/home/misha/records')\n",
      " 75%|███████▌  | 7501/10000 [12:16<04:05, 10.19it/s]"
     ]
    },
    {
     "name": "stdout",
     "output_type": "stream",
     "text": [
      "Episode finished after 692 timesteps with reward=-225.4693324158432\n",
      "iter=7500\tepsilon=0.051\n",
      "Current score(mean over 3) = -261.309\n"
     ]
    },
    {
     "name": "stderr",
     "output_type": "stream",
     "text": [
      " 76%|███████▌  | 7598/10000 [12:28<03:56, 10.15it/s][2017-12-06 20:23:44,576] Making new env: LunarLander-v2\n",
      "[2017-12-06 20:23:44,579] Clearing 2 monitor files from previous run (because force=True was provided)\n"
     ]
    },
    {
     "name": "stdout",
     "output_type": "stream",
     "text": [
      "Episode finished after 838 timesteps with reward=-274.85420917598117\n",
      "Episode finished after 1000 timesteps with reward=-166.33060397982948\n"
     ]
    },
    {
     "name": "stderr",
     "output_type": "stream",
     "text": [
      "[2017-12-06 20:23:50,281] Finished writing results. You can upload them to the scoreboard via gym.upload('/home/misha/records')\n",
      " 76%|███████▌  | 7601/10000 [12:34<03:58, 10.08it/s]"
     ]
    },
    {
     "name": "stdout",
     "output_type": "stream",
     "text": [
      "Episode finished after 1000 timesteps with reward=-129.67409867334905\n",
      "iter=7600\tepsilon=0.050\n",
      "Current score(mean over 3) = -190.286\n"
     ]
    },
    {
     "name": "stderr",
     "output_type": "stream",
     "text": [
      " 77%|███████▋  | 7698/10000 [12:47<03:49, 10.03it/s][2017-12-06 20:24:03,594] Making new env: LunarLander-v2\n",
      "[2017-12-06 20:24:03,597] Clearing 2 monitor files from previous run (because force=True was provided)\n"
     ]
    },
    {
     "name": "stdout",
     "output_type": "stream",
     "text": [
      "Episode finished after 1000 timesteps with reward=-116.31490502216906\n",
      "Episode finished after 1000 timesteps with reward=-159.22834271005758\n"
     ]
    },
    {
     "name": "stderr",
     "output_type": "stream",
     "text": [
      "[2017-12-06 20:24:08,226] Finished writing results. You can upload them to the scoreboard via gym.upload('/home/misha/records')\n",
      " 77%|███████▋  | 7701/10000 [12:52<03:50,  9.97it/s]"
     ]
    },
    {
     "name": "stdout",
     "output_type": "stream",
     "text": [
      "Episode finished after 1000 timesteps with reward=-125.72480715413518\n",
      "iter=7700\tepsilon=0.050\n",
      "Current score(mean over 3) = -133.756\n"
     ]
    },
    {
     "name": "stderr",
     "output_type": "stream",
     "text": [
      " 78%|███████▊  | 7799/10000 [13:05<03:41,  9.93it/s][2017-12-06 20:24:21,608] Making new env: LunarLander-v2\n",
      "[2017-12-06 20:24:21,611] Clearing 2 monitor files from previous run (because force=True was provided)\n"
     ]
    },
    {
     "name": "stdout",
     "output_type": "stream",
     "text": [
      "Episode finished after 1000 timesteps with reward=-147.39461101190037\n",
      "Episode finished after 1000 timesteps with reward=-133.39175740690646\n"
     ]
    },
    {
     "name": "stderr",
     "output_type": "stream",
     "text": [
      "[2017-12-06 20:24:28,507] Finished writing results. You can upload them to the scoreboard via gym.upload('/home/misha/records')\n",
      " 78%|███████▊  | 7800/10000 [13:12<03:43,  9.84it/s]"
     ]
    },
    {
     "name": "stdout",
     "output_type": "stream",
     "text": [
      "Episode finished after 1000 timesteps with reward=-135.68303238672345\n",
      "iter=7800\tepsilon=0.050\n",
      "Current score(mean over 3) = -138.823\n"
     ]
    },
    {
     "name": "stderr",
     "output_type": "stream",
     "text": [
      " 79%|███████▉  | 7899/10000 [13:26<03:34,  9.79it/s][2017-12-06 20:24:42,587] Making new env: LunarLander-v2\n",
      "[2017-12-06 20:24:42,589] Clearing 2 monitor files from previous run (because force=True was provided)\n"
     ]
    },
    {
     "name": "stdout",
     "output_type": "stream",
     "text": [
      "Episode finished after 579 timesteps with reward=-198.18021638808708\n",
      "Episode finished after 1000 timesteps with reward=-127.73641900501717\n"
     ]
    },
    {
     "name": "stderr",
     "output_type": "stream",
     "text": [
      "[2017-12-06 20:24:47,424] Finished writing results. You can upload them to the scoreboard via gym.upload('/home/misha/records')\n",
      " 79%|███████▉  | 7902/10000 [13:31<03:35,  9.74it/s]"
     ]
    },
    {
     "name": "stdout",
     "output_type": "stream",
     "text": [
      "Episode finished after 1000 timesteps with reward=-135.59104223312522\n",
      "iter=7900\tepsilon=0.050\n",
      "Current score(mean over 3) = -153.836\n"
     ]
    },
    {
     "name": "stderr",
     "output_type": "stream",
     "text": [
      " 80%|███████▉  | 7999/10000 [13:46<03:26,  9.68it/s][2017-12-06 20:25:03,025] Making new env: LunarLander-v2\n",
      "[2017-12-06 20:25:03,027] Clearing 2 monitor files from previous run (because force=True was provided)\n"
     ]
    },
    {
     "name": "stdout",
     "output_type": "stream",
     "text": [
      "Episode finished after 1000 timesteps with reward=-148.9800852699523\n",
      "Episode finished after 1000 timesteps with reward=-131.74629682053305\n"
     ]
    },
    {
     "name": "stderr",
     "output_type": "stream",
     "text": [
      "[2017-12-06 20:25:10,588] Finished writing results. You can upload them to the scoreboard via gym.upload('/home/misha/records')\n",
      " 80%|████████  | 8001/10000 [13:54<03:28,  9.59it/s]"
     ]
    },
    {
     "name": "stdout",
     "output_type": "stream",
     "text": [
      "Episode finished after 1000 timesteps with reward=-118.89222586712732\n",
      "iter=8000\tepsilon=0.050\n",
      "Current score(mean over 3) = -133.206\n"
     ]
    },
    {
     "name": "stderr",
     "output_type": "stream",
     "text": [
      " 81%|████████  | 8099/10000 [14:07<03:18,  9.56it/s][2017-12-06 20:25:23,644] Making new env: LunarLander-v2\n",
      "[2017-12-06 20:25:23,647] Clearing 2 monitor files from previous run (because force=True was provided)\n"
     ]
    },
    {
     "name": "stdout",
     "output_type": "stream",
     "text": [
      "Episode finished after 1000 timesteps with reward=-121.1801902946636\n",
      "Episode finished after 1000 timesteps with reward=-117.6352801764081\n"
     ]
    },
    {
     "name": "stderr",
     "output_type": "stream",
     "text": [
      "[2017-12-06 20:25:29,507] Finished writing results. You can upload them to the scoreboard via gym.upload('/home/misha/records')\n",
      " 81%|████████  | 8100/10000 [14:13<03:20,  9.49it/s]"
     ]
    },
    {
     "name": "stdout",
     "output_type": "stream",
     "text": [
      "Episode finished after 1000 timesteps with reward=-72.53404246797444\n",
      "iter=8100\tepsilon=0.050\n",
      "Current score(mean over 3) = -103.783\n"
     ]
    },
    {
     "name": "stderr",
     "output_type": "stream",
     "text": [
      " 82%|████████▏ | 8198/10000 [14:29<03:11,  9.43it/s][2017-12-06 20:25:45,537] Making new env: LunarLander-v2\n",
      "[2017-12-06 20:25:45,539] Clearing 2 monitor files from previous run (because force=True was provided)\n"
     ]
    },
    {
     "name": "stdout",
     "output_type": "stream",
     "text": [
      "Episode finished after 1000 timesteps with reward=-101.31227867254772\n",
      "Episode finished after 1000 timesteps with reward=-67.50190665618109\n"
     ]
    },
    {
     "name": "stderr",
     "output_type": "stream",
     "text": [
      "[2017-12-06 20:25:52,290] Finished writing results. You can upload them to the scoreboard via gym.upload('/home/misha/records')\n",
      " 82%|████████▏ | 8202/10000 [14:36<03:12,  9.36it/s]"
     ]
    },
    {
     "name": "stdout",
     "output_type": "stream",
     "text": [
      "Episode finished after 1000 timesteps with reward=-136.1611954588926\n",
      "iter=8200\tepsilon=0.050\n",
      "Current score(mean over 3) = -101.658\n"
     ]
    },
    {
     "name": "stderr",
     "output_type": "stream",
     "text": [
      " 83%|████████▎ | 8298/10000 [14:50<03:02,  9.32it/s][2017-12-06 20:26:06,261] Making new env: LunarLander-v2\n",
      "[2017-12-06 20:26:06,264] Clearing 2 monitor files from previous run (because force=True was provided)\n"
     ]
    },
    {
     "name": "stdout",
     "output_type": "stream",
     "text": [
      "Episode finished after 1000 timesteps with reward=-63.10904002352703\n",
      "Episode finished after 1000 timesteps with reward=-103.7929529661852\n"
     ]
    },
    {
     "name": "stderr",
     "output_type": "stream",
     "text": [
      "[2017-12-06 20:26:13,162] Finished writing results. You can upload them to the scoreboard via gym.upload('/home/misha/records')\n",
      " 83%|████████▎ | 8301/10000 [14:57<03:03,  9.25it/s]"
     ]
    },
    {
     "name": "stdout",
     "output_type": "stream",
     "text": [
      "Episode finished after 1000 timesteps with reward=-72.47769003180333\n",
      "iter=8300\tepsilon=0.050\n",
      "Current score(mean over 3) = -79.793\n"
     ]
    },
    {
     "name": "stderr",
     "output_type": "stream",
     "text": [
      " 84%|████████▍ | 8399/10000 [15:13<02:54,  9.19it/s][2017-12-06 20:26:29,825] Making new env: LunarLander-v2\n",
      "[2017-12-06 20:26:29,828] Clearing 2 monitor files from previous run (because force=True was provided)\n"
     ]
    },
    {
     "name": "stdout",
     "output_type": "stream",
     "text": [
      "Episode finished after 1000 timesteps with reward=-98.36027219892173\n",
      "Episode finished after 1000 timesteps with reward=-72.37883930252141\n"
     ]
    },
    {
     "name": "stderr",
     "output_type": "stream",
     "text": [
      "[2017-12-06 20:26:37,290] Finished writing results. You can upload them to the scoreboard via gym.upload('/home/misha/records')\n",
      " 84%|████████▍ | 8400/10000 [15:21<02:55,  9.12it/s]"
     ]
    },
    {
     "name": "stdout",
     "output_type": "stream",
     "text": [
      "Episode finished after 1000 timesteps with reward=-129.44573524102856\n",
      "iter=8400\tepsilon=0.050\n",
      "Current score(mean over 3) = -100.062\n"
     ]
    },
    {
     "name": "stderr",
     "output_type": "stream",
     "text": [
      " 85%|████████▍ | 8498/10000 [15:36<02:45,  9.08it/s][2017-12-06 20:26:52,425] Making new env: LunarLander-v2\n",
      "[2017-12-06 20:26:52,427] Clearing 2 monitor files from previous run (because force=True was provided)\n"
     ]
    },
    {
     "name": "stdout",
     "output_type": "stream",
     "text": [
      "Episode finished after 1000 timesteps with reward=-9.459884248594477\n",
      "Episode finished after 1000 timesteps with reward=-93.09927921660466\n"
     ]
    },
    {
     "name": "stderr",
     "output_type": "stream",
     "text": [
      "[2017-12-06 20:26:58,690] Finished writing results. You can upload them to the scoreboard via gym.upload('/home/misha/records')\n",
      " 85%|████████▌ | 8501/10000 [15:42<02:46,  9.02it/s]"
     ]
    },
    {
     "name": "stdout",
     "output_type": "stream",
     "text": [
      "Episode finished after 1000 timesteps with reward=-81.6999876117463\n",
      "iter=8500\tepsilon=0.050\n",
      "Current score(mean over 3) = -61.420\n"
     ]
    },
    {
     "name": "stderr",
     "output_type": "stream",
     "text": [
      " 86%|████████▌ | 8599/10000 [15:57<02:36,  8.98it/s][2017-12-06 20:27:13,767] Making new env: LunarLander-v2\n",
      "[2017-12-06 20:27:13,769] Clearing 2 monitor files from previous run (because force=True was provided)\n"
     ]
    },
    {
     "name": "stdout",
     "output_type": "stream",
     "text": [
      "Episode finished after 817 timesteps with reward=72.55746538815556\n"
     ]
    },
    {
     "name": "stderr",
     "output_type": "stream",
     "text": [
      "[2017-12-06 20:27:17,300] Finished writing results. You can upload them to the scoreboard via gym.upload('/home/misha/records')\n",
      " 86%|████████▌ | 8600/10000 [16:01<02:36,  8.95it/s]"
     ]
    },
    {
     "name": "stdout",
     "output_type": "stream",
     "text": [
      "Episode finished after 783 timesteps with reward=-206.1434800282176\n",
      "Episode finished after 126 timesteps with reward=0.9550747452858843\n",
      "iter=8600\tepsilon=0.050\n",
      "Current score(mean over 3) = -44.210\n"
     ]
    },
    {
     "name": "stderr",
     "output_type": "stream",
     "text": [
      " 87%|████████▋ | 8699/10000 [16:16<02:26,  8.91it/s][2017-12-06 20:27:32,721] Making new env: LunarLander-v2\n",
      "[2017-12-06 20:27:32,724] Clearing 2 monitor files from previous run (because force=True was provided)\n"
     ]
    },
    {
     "name": "stdout",
     "output_type": "stream",
     "text": [
      "Episode finished after 1000 timesteps with reward=-73.39792175800972\n",
      "Episode finished after 1000 timesteps with reward=-72.31778933147922\n"
     ]
    },
    {
     "name": "stderr",
     "output_type": "stream",
     "text": [
      "[2017-12-06 20:27:41,248] Finished writing results. You can upload them to the scoreboard via gym.upload('/home/misha/records')\n",
      " 87%|████████▋ | 8702/10000 [16:25<02:26,  8.83it/s]"
     ]
    },
    {
     "name": "stdout",
     "output_type": "stream",
     "text": [
      "Episode finished after 1000 timesteps with reward=-46.152936644237\n",
      "iter=8700\tepsilon=0.050\n",
      "Current score(mean over 3) = -63.956\n"
     ]
    },
    {
     "name": "stderr",
     "output_type": "stream",
     "text": [
      " 88%|████████▊ | 8799/10000 [16:38<02:16,  8.81it/s][2017-12-06 20:27:54,432] Making new env: LunarLander-v2\n",
      "[2017-12-06 20:27:54,434] Clearing 2 monitor files from previous run (because force=True was provided)\n"
     ]
    },
    {
     "name": "stdout",
     "output_type": "stream",
     "text": [
      "Episode finished after 1000 timesteps with reward=-68.77709441227009\n",
      "Episode finished after 1000 timesteps with reward=-63.71243576209078\n"
     ]
    },
    {
     "name": "stderr",
     "output_type": "stream",
     "text": [
      "[2017-12-06 20:28:01,065] Finished writing results. You can upload them to the scoreboard via gym.upload('/home/misha/records')\n",
      " 88%|████████▊ | 8802/10000 [16:45<02:16,  8.76it/s]"
     ]
    },
    {
     "name": "stdout",
     "output_type": "stream",
     "text": [
      "Episode finished after 1000 timesteps with reward=-101.59982172931781\n",
      "iter=8800\tepsilon=0.050\n",
      "Current score(mean over 3) = -78.030\n"
     ]
    },
    {
     "name": "stderr",
     "output_type": "stream",
     "text": [
      " 89%|████████▉ | 8898/10000 [16:56<02:05,  8.75it/s][2017-12-06 20:28:12,865] Making new env: LunarLander-v2\n",
      "[2017-12-06 20:28:12,867] Clearing 2 monitor files from previous run (because force=True was provided)\n"
     ]
    },
    {
     "name": "stdout",
     "output_type": "stream",
     "text": [
      "Episode finished after 150 timesteps with reward=3.9964996143349367\n",
      "Episode finished after 1000 timesteps with reward=-9.000406458791838\n"
     ]
    },
    {
     "name": "stderr",
     "output_type": "stream",
     "text": [
      "[2017-12-06 20:28:15,815] Finished writing results. You can upload them to the scoreboard via gym.upload('/home/misha/records')\n",
      " 89%|████████▉ | 8901/10000 [16:59<02:05,  8.73it/s]"
     ]
    },
    {
     "name": "stdout",
     "output_type": "stream",
     "text": [
      "Episode finished after 591 timesteps with reward=-174.06398177472795\n",
      "iter=8900\tepsilon=0.050\n",
      "Current score(mean over 3) = -59.689\n"
     ]
    },
    {
     "name": "stderr",
     "output_type": "stream",
     "text": [
      " 90%|████████▉ | 8999/10000 [17:11<01:54,  8.72it/s][2017-12-06 20:28:27,964] Making new env: LunarLander-v2\n",
      "[2017-12-06 20:28:27,966] Clearing 2 monitor files from previous run (because force=True was provided)\n"
     ]
    },
    {
     "name": "stdout",
     "output_type": "stream",
     "text": [
      "Episode finished after 963 timesteps with reward=-217.78876641151027\n",
      "Episode finished after 154 timesteps with reward=-5.771723771154143\n"
     ]
    },
    {
     "name": "stderr",
     "output_type": "stream",
     "text": [
      "[2017-12-06 20:28:30,564] Finished writing results. You can upload them to the scoreboard via gym.upload('/home/misha/records')\n"
     ]
    },
    {
     "name": "stdout",
     "output_type": "stream",
     "text": [
      "Episode finished after 317 timesteps with reward=227.05911483272928\n",
      "iter=9000\tepsilon=0.050\n",
      "Current score(mean over 3) = 1.166\n",
      "You win!\n"
     ]
    }
   ],
   "source": [
    "from tqdm import trange\n",
    "\n",
    "for i in trange(10000):    \n",
    "    \n",
    "    #play\n",
    "    for _ in range(5):\n",
    "        pool.update(SEQ_LENGTH,append=True)\n",
    "    \n",
    "    #train\n",
    "    train_step()\n",
    "    \n",
    "    #update epsilon\n",
    "    epsilon = 0.05 + 0.95*np.exp(-epoch_counter/1000.)\n",
    "    action_layer.epsilon.set_value(np.float32(epsilon))\n",
    "    \n",
    "    #play a few games for evaluation\n",
    "    if epoch_counter%100==0:\n",
    "        rewards[epoch_counter] = np.mean(pool.evaluate(n_games=3,record_video=False))\n",
    "        print(\"iter=%i\\tepsilon=%.3f\"%(epoch_counter,action_layer.epsilon.get_value(),))\n",
    "        print(\"Current score(mean over %i) = %.3f\"%(3,np.mean(rewards[epoch_counter])))\n",
    "    \n",
    "        if rewards[epoch_counter] >= target_score:\n",
    "            print(\"You win!\")\n",
    "            break\n",
    "\n",
    "    \n",
    "    epoch_counter  +=1\n",
    "\n",
    "    \n",
    "# Time to drink some coffee!"
   ]
  },
  {
   "cell_type": "code",
   "execution_count": 52,
   "metadata": {},
   "outputs": [
    {
     "name": "stderr",
     "output_type": "stream",
     "text": [
      "/home/misha/anaconda2/envs/python3env/lib/python3.6/site-packages/ipykernel_launcher.py:3: FutureWarning: pd.ewm_mean is deprecated for ndarrays and will be removed in a future version\n",
      "  This is separate from the ipykernel package so we can avoid doing imports until\n"
     ]
    },
    {
     "data": {
      "text/plain": [
       "[<matplotlib.lines.Line2D at 0x7f637c5bcf28>]"
      ]
     },
     "execution_count": 52,
     "metadata": {},
     "output_type": "execute_result"
    },
    {
     "data": {
      "image/png": "[encoded data removed]",
      "text/plain": [
       "<matplotlib.figure.Figure at 0x7f637c02ee48>"
      ]
     },
     "metadata": {},
     "output_type": "display_data"
    }
   ],
   "source": [
    "from pandas import ewma\n",
    "iters,session_rewards=zip(*sorted(rewards.items(),key=lambda item:item[0]))\n",
    "plt.plot(iters,ewma(np.array(session_rewards),span=10))"
   ]
  },
  {
   "cell_type": "code",
   "execution_count": 54,
   "metadata": {},
   "outputs": [
    {
     "name": "stderr",
     "output_type": "stream",
     "text": [
      "[2017-12-06 20:32:14,105] Making new env: LunarLander-v2\n",
      "[2017-12-06 20:32:14,112] Clearing 8 monitor files from previous run (because force=True was provided)\n",
      "[2017-12-06 20:32:14,114] Starting new video recorder writing to /home/misha/records/openaigym.video.200.4347.video000000.mp4\n",
      "\n",
      "[2017-12-06 20:32:16,125] Starting new video recorder writing to /home/misha/records/openaigym.video.200.4347.video000001.mp4\n",
      "\n"
     ]
    },
    {
     "name": "stdout",
     "output_type": "stream",
     "text": [
      "Episode finished after 108 timesteps with reward=-36.36507844731736\n",
      "Episode finished after 303 timesteps with reward=225.2444374274882\n",
      "Episode finished after 1000 timesteps with reward=-60.62762860320174\n",
      "Episode finished after 1000 timesteps with reward=-52.742522270854835\n",
      "Episode finished after 1000 timesteps with reward=-104.46200612673321\n",
      "Episode finished after 1000 timesteps with reward=-95.08679497325068\n"
     ]
    },
    {
     "name": "stderr",
     "output_type": "stream",
     "text": [
      "[2017-12-06 20:32:32,963] Starting new video recorder writing to /home/misha/records/openaigym.video.200.4347.video000008.mp4\n",
      "\n"
     ]
    },
    {
     "name": "stdout",
     "output_type": "stream",
     "text": [
      "Episode finished after 1000 timesteps with reward=-81.79139524587485\n",
      "Episode finished after 101 timesteps with reward=-59.18993919277167\n",
      "Episode finished after 553 timesteps with reward=181.63515811143327\n"
     ]
    },
    {
     "name": "stderr",
     "output_type": "stream",
     "text": [
      "[2017-12-06 20:32:43,603] Finished writing results. You can upload them to the scoreboard via gym.upload('/home/misha/records')\n"
     ]
    },
    {
     "name": "stdout",
     "output_type": "stream",
     "text": [
      "Episode finished after 809 timesteps with reward=-87.31231269474475\n",
      "average reward: [-36.365078447317359, 225.24443742748821, -60.627628603201742, -52.742522270854835, -104.46200612673321, -95.086794973250676, -81.791395245874853, -59.189939192771668, 181.63515811143327, -87.312312694744747]\n"
     ]
    }
   ],
   "source": [
    "final_reward = pool.evaluate(n_games=10,save_path=\"./records\",record_video=True)\n",
    "\n",
    "print(\"average reward:\",final_reward)\n",
    "\n",
    "video_names = list(filter(lambda s:s.endswith(\".mp4\"),os.listdir(\"./records/\")))\n",
    "\n",
    "for video_name in video_names:\n",
    "    HTML(\"\"\"\n",
    "    <video width=\"640\" height=\"480\" controls>\n",
    "      <source src=\"{}\" type=\"video/mp4\">\n",
    "    </video>\n",
    "    \"\"\".format(\"./records/\"+video_name)) #this may or may not be _last_ video. Try other indices"
   ]
  },
  {
   "cell_type": "code",
   "execution_count": null,
   "metadata": {
    "collapsed": true
   },
   "outputs": [],
   "source": []
  }
 ],
 "metadata": {
  "kernelspec": {
   "display_name": "Python 3",
   "language": "python",
   "name": "python3"
  },
  "language_info": {
   "codemirror_mode": {
    "name": "ipython",
    "version": 3
   },
   "file_extension": ".py",
   "mimetype": "text/x-python",
   "name": "python",
   "nbconvert_exporter": "python",
   "pygments_lexer": "ipython3",
   "version": "3.6.3"
  }
 },
 "nbformat": 4,
 "nbformat_minor": 1
}
